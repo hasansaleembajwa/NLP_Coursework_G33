{
 "cells": [
  {
   "cell_type": "code",
   "execution_count": 2,
   "id": "342354d3-01ca-4fac-902f-8e5632c05b12",
   "metadata": {},
   "outputs": [
    {
     "name": "stderr",
     "output_type": "stream",
     "text": [
      "[nltk_data] Downloading package wordnet to\n",
      "[nltk_data]     /user/HS400/hb01440/nltk_data...\n",
      "[nltk_data]   Package wordnet is already up-to-date!\n"
     ]
    },
    {
     "data": {
      "text/plain": [
       "True"
      ]
     },
     "execution_count": 2,
     "metadata": {},
     "output_type": "execute_result"
    }
   ],
   "source": [
    "from tensorflow.keras.preprocessing.sequence import pad_sequences\n",
    "from datasets import load_dataset\n",
    "import pandas as pd\n",
    "import matplotlib.pyplot as plt\n",
    "from itertools import chain\n",
    "import nltk\n",
    "from nltk.stem import PorterStemmer, WordNetLemmatizer\n",
    "from sklearn.metrics import confusion_matrix, ConfusionMatrixDisplay, classification_report\n",
    "from itertools import chain\n",
    "import sklearn\n",
    "from sklearn.preprocessing import LabelBinarizer\n",
    "import sklearn_crfsuite as crfsuite\n",
    "from sklearn_crfsuite import metrics\n",
    "import seaborn as sns\n",
    "import torch\n",
    "from torch.utils.data import TensorDataset, DataLoader, RandomSampler, SequentialSampler\n",
    "import transformers\n",
    "from transformers import BertTokenizer, BertConfig\n",
    "from transformers import BertForTokenClassification, AdamW \n",
    "import numpy as np\n",
    "import seqeval\n",
    "from seqeval.metrics import f1_score, precision_score, recall_score, accuracy_score\n",
    "\n",
    "from sklearn.metrics import classification_report as class_rep\n",
    "\n",
    "from keras.preprocessing.sequence import pad_sequences\n",
    "\n",
    "torch.__version__\n",
    "\n",
    "MAX_LEN = 60\n",
    "bs = 30\n",
    "nltk.download('wordnet')\n"
   ]
  },
  {
   "cell_type": "code",
   "execution_count": 67,
   "id": "a145903b-ed65-4db5-bc57-96dd3f4cb73b",
   "metadata": {},
   "outputs": [],
   "source": [
    "import tensorflow as tf"
   ]
  },
  {
   "cell_type": "code",
   "execution_count": 68,
   "id": "90be74db-baf3-48b8-b5a5-900a54ead93e",
   "metadata": {},
   "outputs": [
    {
     "name": "stdout",
     "output_type": "stream",
     "text": [
      "2.16.1\n"
     ]
    }
   ],
   "source": [
    "print(tf.__version__)"
   ]
  },
  {
   "cell_type": "code",
   "execution_count": 3,
   "id": "1e28d1aa-6a81-404a-8116-577451a89a9f",
   "metadata": {},
   "outputs": [],
   "source": [
    "def convert_to_list(data_list):\n",
    "    df = pd.DataFrame(data_list)\n",
    "    new_list = df.values.flatten()\n",
    "    new_list = [tag for tag in new_list if tag is not None]\n",
    "    return new_list\n",
    "\n",
    "def tokenize_and_keep_labels(sentence, text_labels):\n",
    "    tokenized_sentence = []\n",
    "    labels = []\n",
    "\n",
    "    for word, label in zip(sentence, text_labels):\n",
    "\n",
    "        tokenized_word = tokenizer.tokenize(str(word))\n",
    "        n_subwords = len(tokenized_word)\n",
    "\n",
    "        tokenized_sentence.extend(tokenized_word)\n",
    "\n",
    "        labels.extend([label] * n_subwords)\n",
    "\n",
    "    return tokenized_sentence, labels\n",
    "    LSTMLSTMLSTMLSTMLSTMLSTMLSTMLSTM\n",
    "def get_words_tags(df_dataset, set):\n",
    "    words = []\n",
    "    words = pd.Series(convert_to_list(df_dataset[set][:]['tokens'])).unique().tolist()\n",
    "    words.append(\"ENDPAD\")\n",
    "    num_words = len(words)\n",
    "    \n",
    "    tags = pd.Series(convert_to_list(df_dataset[set][:]['ner_tags'])).unique().tolist()\n",
    "\n",
    "    return words, tags, num_words\n",
    "\n",
    "def get_sentence_tuples(df_dataset):\n",
    "    sentences = []\n",
    "    for tokens, ner_tags in zip(df_dataset['tokens'], df_dataset['ner_tags']):\n",
    "        sentences.append(list(zip(tokens, ner_tags)))\n",
    "    return sentences\n",
    "\n",
    "def padding_data(word2idx, tag2idx, sentences, num_words):\n",
    "    max_len = 50\n",
    "    \n",
    "    X = [[word2idx[w[0]] for w in s] for s in sentences]\n",
    "    X = pad_sequences(maxlen=max_len, sequences=X, padding=\"post\", value=num_words-1)\n",
    "    \n",
    "    y = [[tag2idx[w[1]] for w in s] for s in sentences]\n",
    "    y = pad_sequences(maxlen=max_len, sequences=y, padding=\"post\", value=tag2idx[\"B-O\"])\n",
    "\n",
    "    return X, y\n",
    "\n",
    "def word2features(sent, i):\n",
    "    word = sent[i][0]\n",
    "    features = [\n",
    "        'bias',\n",
    "        'word.lower=' + word.lower(),\n",
    "        'word[-3:]=' + word[-3:],\n",
    "        'word[-2:]=' + word[-2:],\n",
    "        'word.isupper=%s' % word.isupper(),\n",
    "        'word.istitle=%s' % word.istitle(),\n",
    "        'word.isdigit=%s' % word.isdigit(),\n",
    "    ]\n",
    "    if i > 0:\n",
    "        word1 = sent[i-1][0]\n",
    "        features.extend([\n",
    "            '-1:word.lower=' + word1.lower(),\n",
    "            '-1:word.istitle=%s' % word1.istitle(),\n",
    "            '-1:word.isupper=%s' % word1.isupper(),\n",
    "        ])\n",
    "    else:\n",
    "        features.append('BOS')\n",
    "\n",
    "    if i > 1: \n",
    "        word2 = sent[i-2][0]\n",
    "        features.extend([\n",
    "            '-2:word.lower=' + word2.lower(),\n",
    "            '-2:word.istitle=%s' % word2.istitle(),\n",
    "            '-2:word.isupper=%s' % word2.isupper(),\n",
    "        ])        \n",
    "\n",
    "        \n",
    "    if i < len(sent)-1:\n",
    "        word1 = sent[i+1][0]\n",
    "        features.extend([\n",
    "            '+1:word.lower=' + word1.lower(),\n",
    "            '+1:word.istitle=%s' % word1.istitle(),\n",
    "            '+1:word.isupper=%s' % word1.isupper(),\n",
    "        ])\n",
    "    else:\n",
    "        features.append('EOS')\n",
    "\n",
    "    if i < len(sent)-2:\n",
    "        word2 = sent[i+2][0]\n",
    "        features.extend([\n",
    "            '+2:word.lower=' + word2.lower(),\n",
    "            '+2:word.istitle=%s' % word2.istitle(),\n",
    "            '+2:word.isupper=%s' % word2.isupper(),\n",
    "        ])\n",
    "\n",
    "        \n",
    "    return features\n",
    "\n",
    "def sent2features(sent):\n",
    "    return [word2features(sent, i) for i in range(len(sent))]\n",
    "\n",
    "def sent2labels(sent):\n",
    "    return [label for token, label in sent]\n",
    "\n",
    "def sent2tokens(sent):\n",
    "    return [token for token, label in sent]\n",
    "\n",
    "def flat_to_list_of_lists(flat_list, chunk_size):\n",
    "    return [flat_list[i:i+chunk_size] for i in range(0, len(flat_list), chunk_size)]\n",
    "\n",
    "from torch.nn import CrossEntropyLoss, MSELoss\n",
    "\n",
    "def choose_loss_function(task):\n",
    "    if task == \"classification\":\n",
    "        return CrossEntropyLoss()\n",
    "    elif task == \"regression\":\n",
    "        return MSELoss()\n",
    "    else:\n",
    "        raise ValueError(\"Invalid task specified. Supported tasks: 'classification', 'regression'\")\n"
   ]
  },
  {
   "cell_type": "code",
   "execution_count": 4,
   "id": "603fb69c-792c-433c-98cc-8a6ee8d6f11a",
   "metadata": {},
   "outputs": [
    {
     "data": {
      "text/plain": [
       "'Quadro P4000'"
      ]
     },
     "execution_count": 4,
     "metadata": {},
     "output_type": "execute_result"
    }
   ],
   "source": [
    "device = torch.device(\"cuda\" if torch.cuda.is_available() else \"cpu\")\n",
    "n_gpu = torch.cuda.device_count()\n",
    "torch.cuda.get_device_name(0)"
   ]
  },
  {
   "cell_type": "code",
   "execution_count": 5,
   "id": "5a71d78b-e4f4-4420-a742-5b35a5136583",
   "metadata": {},
   "outputs": [],
   "source": [
    "dataset = load_dataset(\"surrey-nlp/PLOD-CW\")\n",
    "\n",
    "data = dataset['train']\n",
    "data_test = dataset['test']\n",
    "data_val = dataset['validation']\n",
    "\n",
    "df = pd.DataFrame(dataset['train'])\n",
    "df_test = pd.DataFrame(dataset['test'])\n",
    "df_val = pd.DataFrame(dataset['validation'])\n",
    "\n",
    "sentences_data_train = get_sentence_tuples(df)\n",
    "sentences_data_test = get_sentence_tuples(df_test)\n",
    "sentences_data_val = get_sentence_tuples(df_val)\n",
    "\n",
    "sentences_train = [[word[0] for word in sentence] for sentence in sentences_data_train]\n",
    "sentences_val = [[word[0] for word in sentence] for sentence in sentences_data_val]\n",
    "sentences_test = [[word[0] for word in sentence] for sentence in sentences_data_test]\n",
    "\n",
    "labels_train = [[s[1] for s in sentence] for sentence in sentences_data_train]\n",
    "labels_val = [[s[1] for s in sentence] for sentence in sentences_data_val]\n",
    "labels_test = [[s[1] for s in sentence] for sentence in sentences_data_test]"
   ]
  },
  {
   "cell_type": "code",
   "execution_count": 6,
   "id": "5925ddeb-342e-4e27-b9c1-f5ea1675fbf1",
   "metadata": {},
   "outputs": [],
   "source": [
    "tokens_flat = [token for sublist in df[\"ner_tags\"].values for token in sublist]\n",
    "\n",
    "tag_values = list(set(tokens_flat))\n",
    "tag_values.append(\"PAD\")\n",
    "\n",
    "\n",
    "tag2idx = {t: i for i, t in enumerate(tag_values)}"
   ]
  },
  {
   "cell_type": "code",
   "execution_count": 7,
   "id": "d01b0999-c581-45d4-8da0-accc705adcd8",
   "metadata": {},
   "outputs": [],
   "source": [
    "tokenizer = BertTokenizer.from_pretrained('dccuchile/bert-base-spanish-wwm-cased', do_lower_case=False)"
   ]
  },
  {
   "cell_type": "code",
   "execution_count": 8,
   "id": "6cc4166a-20e4-4f5d-a194-37731501af56",
   "metadata": {},
   "outputs": [],
   "source": [
    "tokenized_texts_and_labels_train = [\n",
    "    tokenize_and_keep_labels(sent, labs)\n",
    "    for sent, labs in zip(sentences_train, labels_train)\n",
    "]\n",
    "\n",
    "tokenized_texts_and_labels_val = [\n",
    "    tokenize_and_keep_labels(sent, labs)\n",
    "    for sent, labs in zip(sentences_val, labels_val)\n",
    "]\n",
    "\n",
    "tokenized_texts_and_labels_test = [\n",
    "    tokenize_and_keep_labels(sent, labs)\n",
    "    for sent, labs in zip(sentences_test, labels_test)\n",
    "]\n",
    "\n",
    "tokenized_texts_train = [token_label_pair[0] for token_label_pair in tokenized_texts_and_labels_train]\n",
    "labels_train = [token_label_pair[1] for token_label_pair in tokenized_texts_and_labels_train]\n",
    "\n",
    "tokenized_texts_val = [token_label_pair[0] for token_label_pair in tokenized_texts_and_labels_val]\n",
    "labels_val = [token_label_pair[1] for token_label_pair in tokenized_texts_and_labels_val]\n",
    "\n",
    "tokenized_texts_test = [token_label_pair[0] for token_label_pair in tokenized_texts_and_labels_test]\n",
    "labels_test = [token_label_pair[1] for token_label_pair in tokenized_texts_and_labels_test]\n",
    "\n",
    "input_ids_train = pad_sequences([tokenizer.convert_tokens_to_ids(txt) for txt in tokenized_texts_train],\n",
    "                          maxlen=MAX_LEN, dtype=\"long\", value=0.0,\n",
    "                          truncating=\"post\", padding=\"post\")\n",
    "\n",
    "input_ids_val = pad_sequences([tokenizer.convert_tokens_to_ids(txt) for txt in tokenized_texts_val],\n",
    "                          maxlen=MAX_LEN, dtype=\"long\", value=0.0,\n",
    "                          truncating=\"post\", padding=\"post\")\n",
    "\n",
    "input_ids_test = pad_sequences([tokenizer.convert_tokens_to_ids(txt) for txt in tokenized_texts_test],\n",
    "                          maxlen=MAX_LEN, dtype=\"long\", value=0.0,\n",
    "                          truncating=\"post\", padding=\"post\")\n",
    "\n",
    "tags_train = pad_sequences([[tag2idx.get(l) for l in lab] for lab in labels_train],\n",
    "                     maxlen=MAX_LEN, value=tag2idx[\"PAD\"], padding=\"post\",\n",
    "                     dtype=\"long\", truncating=\"post\")\n",
    "\n",
    "tags_val = pad_sequences([[tag2idx.get(l) for l in lab] for lab in labels_val],\n",
    "                     maxlen=MAX_LEN, value=tag2idx[\"PAD\"], padding=\"post\",\n",
    "                     dtype=\"long\", truncating=\"post\")\n",
    "\n",
    "tags_test = pad_sequences([[tag2idx.get(l) for l in lab] for lab in labels_test],\n",
    "                     maxlen=MAX_LEN, value=tag2idx[\"PAD\"], padding=\"post\",\n",
    "                     dtype=\"long\", truncating=\"post\")\n",
    "\n",
    "attention_masks_train = [[float(i != 0.0) for i in ii] for ii in input_ids_train]\n",
    "attention_masks_val = [[float(i != 0.0) for i in ii] for ii in input_ids_val]\n",
    "attention_masks_test = [[float(i != 0.0) for i in ii] for ii in input_ids_test]\n"
   ]
  },
  {
   "cell_type": "code",
   "execution_count": 9,
   "id": "383a7845-3089-4ded-8738-565fe25d35c8",
   "metadata": {},
   "outputs": [],
   "source": [
    "train_inputs = torch.tensor(input_ids_train)\n",
    "val_inputs = torch.tensor(input_ids_val)\n",
    "test_inputs = torch.tensor(input_ids_test)\n",
    "train_tags = torch.tensor(tags_train)\n",
    "val_tags = torch.tensor(tags_val)\n",
    "test_tags = torch.tensor(tags_test)\n",
    "train_masks = torch.tensor(attention_masks_train)\n",
    "val_masks = torch.tensor(attention_masks_val)\n",
    "test_masks = torch.tensor(attention_masks_test)\n"
   ]
  },
  {
   "cell_type": "code",
   "execution_count": 10,
   "id": "c41c09b3-df69-4403-be2b-b607429843e3",
   "metadata": {},
   "outputs": [],
   "source": [
    "train_data = TensorDataset(train_inputs, train_masks, train_tags)\n",
    "train_sampler = RandomSampler(train_data)\n",
    "train_dataloader = DataLoader(train_data, sampler=train_sampler, batch_size=bs)\n",
    "\n",
    "val_data = TensorDataset(val_inputs, val_masks, val_tags)\n",
    "val_sampler = SequentialSampler(val_data)\n",
    "val_dataloader = DataLoader(val_data, sampler=val_sampler, batch_size=bs)\n",
    "\n",
    "test_data = TensorDataset(test_inputs, test_masks, test_tags)\n",
    "test_sampler = SequentialSampler(test_data)\n",
    "test_dataloader = DataLoader(test_data, sampler=test_sampler, batch_size=bs)"
   ]
  },
  {
   "cell_type": "code",
   "execution_count": 11,
   "id": "70a7c0a5-2ddb-4e46-8ca0-e27503b326be",
   "metadata": {},
   "outputs": [
    {
     "name": "stderr",
     "output_type": "stream",
     "text": [
      "Some weights of BertForTokenClassification were not initialized from the model checkpoint at dccuchile/bert-base-spanish-wwm-cased and are newly initialized: ['classifier.bias', 'classifier.weight']\n",
      "You should probably TRAIN this model on a down-stream task to be able to use it for predictions and inference.\n"
     ]
    }
   ],
   "source": [
    "model = BertForTokenClassification.from_pretrained(\n",
    "    \"dccuchile/bert-base-spanish-wwm-cased\",\n",
    "    num_labels=len(tag2idx),\n",
    "    output_attentions = False,\n",
    "    output_hidden_states = False\n",
    ")\n"
   ]
  },
  {
   "cell_type": "code",
   "execution_count": 12,
   "id": "9bb7e6ad-5b27-4848-9d95-80884cc5909e",
   "metadata": {},
   "outputs": [],
   "source": [
    "model.cuda();"
   ]
  },
  {
   "cell_type": "code",
   "execution_count": 13,
   "id": "0d7eab54-c401-44f7-b1c8-fe7bb56f27cd",
   "metadata": {},
   "outputs": [
    {
     "name": "stderr",
     "output_type": "stream",
     "text": [
      "/user/HS400/hb01440/.local/lib/python3.10/site-packages/transformers/optimization.py:521: FutureWarning: This implementation of AdamW is deprecated and will be removed in a future version. Use the PyTorch implementation torch.optim.AdamW instead, or set `no_deprecation_warning=True` to disable this warning\n",
      "  warnings.warn(\n"
     ]
    }
   ],
   "source": [
    "FULL_FINETUNING = True\n",
    "if FULL_FINETUNING:\n",
    "    param_optimizer = list(model.named_parameters())\n",
    "    no_decay = ['bias', 'gamma', 'beta']\n",
    "    optimizer_grouped_parameters = [\n",
    "        {'params': [p for n, p in param_optimizer if not any(nd in n for nd in no_decay)],\n",
    "         'weight_decay_rate': 0.01},\n",
    "        {'params': [p for n, p in param_optimizer if any(nd in n for nd in no_decay)],\n",
    "         'weight_decay_rate': 0.0}\n",
    "    ]\n",
    "else:\n",
    "    param_optimizer = list(model.classifier.named_parameters())\n",
    "    optimizer_grouped_parameters = [{\"params\": [p for n, p in param_optimizer]}]\n",
    "\n",
    "optimizer = AdamW(\n",
    "    optimizer_grouped_parameters,\n",
    "    lr=3e-5,\n",
    "    eps=1e-8\n",
    ")\n"
   ]
  },
  {
   "cell_type": "code",
   "execution_count": 14,
   "id": "02b837b5-9dd3-4536-8118-99867f02d60d",
   "metadata": {},
   "outputs": [],
   "source": [
    "from transformers import get_linear_schedule_with_warmup\n",
    "\n",
    "epochs = 20\n",
    "max_grad_norm = 1.0\n",
    "\n",
    "total_steps = len(train_dataloader) * epochs\n",
    "\n",
    "scheduler = get_linear_schedule_with_warmup(\n",
    "    optimizer,\n",
    "    num_warmup_steps=0,\n",
    "    num_training_steps=total_steps\n",
    ")\n"
   ]
  },
  {
   "cell_type": "code",
   "execution_count": 15,
   "id": "907ceef4-09d6-48a7-a6fb-01801a6dfd04",
   "metadata": {},
   "outputs": [],
   "source": [
    "import os\n",
    "output_dir = './model_save/'\n",
    "if not os.path.exists(output_dir):\n",
    "    os.makedirs(output_dir)"
   ]
  },
  {
   "cell_type": "code",
   "execution_count": 16,
   "id": "0c861058-5bca-4906-be84-8ad9d4708444",
   "metadata": {
    "scrolled": true
   },
   "outputs": [
    {
     "name": "stdout",
     "output_type": "stream",
     "text": [
      "Average train loss: 0.6380859480963813\n",
      "Development loss: 0.26746008098125457\n",
      "Development Accuracy: 0.8885763400531334\n",
      "Development classification report:\n",
      "              precision    recall  f1-score   support\n",
      "\n",
      "        B-AC       0.70      0.85      0.77       437\n",
      "        B-LF       0.62      0.49      0.55       342\n",
      "         B-O       0.94      0.94      0.94      5067\n",
      "        I-LF       0.78      0.68      0.73       553\n",
      "         PAD       0.00      0.00      0.00         0\n",
      "\n",
      "    accuracy                           0.89      6399\n",
      "   macro avg       0.61      0.59      0.60      6399\n",
      "weighted avg       0.89      0.89      0.89      6399\n",
      "\n"
     ]
    },
    {
     "name": "stderr",
     "output_type": "stream",
     "text": [
      "/user/HS400/hb01440/.local/lib/python3.10/site-packages/sklearn/metrics/_classification.py:1471: UndefinedMetricWarning: Recall and F-score are ill-defined and being set to 0.0 in labels with no true samples. Use `zero_division` parameter to control this behavior.\n",
      "  _warn_prf(average, modifier, msg_start, len(result))\n",
      "/user/HS400/hb01440/.local/lib/python3.10/site-packages/sklearn/metrics/_classification.py:1471: UndefinedMetricWarning: Recall and F-score are ill-defined and being set to 0.0 in labels with no true samples. Use `zero_division` parameter to control this behavior.\n",
      "  _warn_prf(average, modifier, msg_start, len(result))\n",
      "/user/HS400/hb01440/.local/lib/python3.10/site-packages/sklearn/metrics/_classification.py:1471: UndefinedMetricWarning: Recall and F-score are ill-defined and being set to 0.0 in labels with no true samples. Use `zero_division` parameter to control this behavior.\n",
      "  _warn_prf(average, modifier, msg_start, len(result))\n"
     ]
    },
    {
     "name": "stdout",
     "output_type": "stream",
     "text": [
      "Average train loss: 0.25527603924274445\n",
      "Development loss: 0.2512294501066208\n",
      "Development Accuracy: 0.8982653539615565\n",
      "Development classification report:\n",
      "              precision    recall  f1-score   support\n",
      "\n",
      "        B-AC       0.79      0.83      0.81       437\n",
      "        B-LF       0.61      0.61      0.61       342\n",
      "         B-O       0.96      0.93      0.94      5067\n",
      "        I-LF       0.70      0.84      0.76       553\n",
      "         PAD       0.00      0.00      0.00         0\n",
      "\n",
      "    accuracy                           0.90      6399\n",
      "   macro avg       0.61      0.64      0.62      6399\n",
      "weighted avg       0.90      0.90      0.90      6399\n",
      "\n"
     ]
    },
    {
     "name": "stderr",
     "output_type": "stream",
     "text": [
      "/user/HS400/hb01440/.local/lib/python3.10/site-packages/sklearn/metrics/_classification.py:1471: UndefinedMetricWarning: Recall and F-score are ill-defined and being set to 0.0 in labels with no true samples. Use `zero_division` parameter to control this behavior.\n",
      "  _warn_prf(average, modifier, msg_start, len(result))\n",
      "/user/HS400/hb01440/.local/lib/python3.10/site-packages/sklearn/metrics/_classification.py:1471: UndefinedMetricWarning: Recall and F-score are ill-defined and being set to 0.0 in labels with no true samples. Use `zero_division` parameter to control this behavior.\n",
      "  _warn_prf(average, modifier, msg_start, len(result))\n",
      "/user/HS400/hb01440/.local/lib/python3.10/site-packages/sklearn/metrics/_classification.py:1471: UndefinedMetricWarning: Recall and F-score are ill-defined and being set to 0.0 in labels with no true samples. Use `zero_division` parameter to control this behavior.\n",
      "  _warn_prf(average, modifier, msg_start, len(result))\n"
     ]
    },
    {
     "name": "stdout",
     "output_type": "stream",
     "text": [
      "Average train loss: 0.1839345068567329\n",
      "Development loss: 0.24342210590839386\n",
      "Development Accuracy: 0.9112361306454133\n",
      "Development classification report:\n",
      "              precision    recall  f1-score   support\n",
      "\n",
      "        B-AC       0.76      0.88      0.82       437\n",
      "        B-LF       0.74      0.58      0.65       342\n",
      "         B-O       0.95      0.95      0.95      5067\n",
      "        I-LF       0.76      0.83      0.80       553\n",
      "         PAD       0.00      0.00      0.00         0\n",
      "\n",
      "    accuracy                           0.91      6399\n",
      "   macro avg       0.64      0.65      0.64      6399\n",
      "weighted avg       0.91      0.91      0.91      6399\n",
      "\n"
     ]
    },
    {
     "name": "stderr",
     "output_type": "stream",
     "text": [
      "/user/HS400/hb01440/.local/lib/python3.10/site-packages/sklearn/metrics/_classification.py:1471: UndefinedMetricWarning: Recall and F-score are ill-defined and being set to 0.0 in labels with no true samples. Use `zero_division` parameter to control this behavior.\n",
      "  _warn_prf(average, modifier, msg_start, len(result))\n",
      "/user/HS400/hb01440/.local/lib/python3.10/site-packages/sklearn/metrics/_classification.py:1471: UndefinedMetricWarning: Recall and F-score are ill-defined and being set to 0.0 in labels with no true samples. Use `zero_division` parameter to control this behavior.\n",
      "  _warn_prf(average, modifier, msg_start, len(result))\n",
      "/user/HS400/hb01440/.local/lib/python3.10/site-packages/sklearn/metrics/_classification.py:1471: UndefinedMetricWarning: Recall and F-score are ill-defined and being set to 0.0 in labels with no true samples. Use `zero_division` parameter to control this behavior.\n",
      "  _warn_prf(average, modifier, msg_start, len(result))\n"
     ]
    },
    {
     "name": "stdout",
     "output_type": "stream",
     "text": [
      "Average train loss: 0.13629652911590207\n",
      "Development loss: 0.2354726731777191\n",
      "Development Accuracy: 0.9149867166744804\n",
      "Development classification report:\n",
      "              precision    recall  f1-score   support\n",
      "\n",
      "        B-AC       0.87      0.78      0.82       437\n",
      "        B-LF       0.68      0.61      0.65       342\n",
      "         B-O       0.95      0.95      0.95      5067\n",
      "        I-LF       0.77      0.86      0.81       553\n",
      "         PAD       0.00      0.00      0.00         0\n",
      "\n",
      "    accuracy                           0.91      6399\n",
      "   macro avg       0.65      0.64      0.65      6399\n",
      "weighted avg       0.91      0.91      0.91      6399\n",
      "\n"
     ]
    },
    {
     "name": "stderr",
     "output_type": "stream",
     "text": [
      "/user/HS400/hb01440/.local/lib/python3.10/site-packages/sklearn/metrics/_classification.py:1471: UndefinedMetricWarning: Recall and F-score are ill-defined and being set to 0.0 in labels with no true samples. Use `zero_division` parameter to control this behavior.\n",
      "  _warn_prf(average, modifier, msg_start, len(result))\n",
      "/user/HS400/hb01440/.local/lib/python3.10/site-packages/sklearn/metrics/_classification.py:1471: UndefinedMetricWarning: Recall and F-score are ill-defined and being set to 0.0 in labels with no true samples. Use `zero_division` parameter to control this behavior.\n",
      "  _warn_prf(average, modifier, msg_start, len(result))\n",
      "/user/HS400/hb01440/.local/lib/python3.10/site-packages/sklearn/metrics/_classification.py:1471: UndefinedMetricWarning: Recall and F-score are ill-defined and being set to 0.0 in labels with no true samples. Use `zero_division` parameter to control this behavior.\n",
      "  _warn_prf(average, modifier, msg_start, len(result))\n"
     ]
    },
    {
     "name": "stdout",
     "output_type": "stream",
     "text": [
      "Average train loss: 0.09893324329621261\n",
      "Development loss: 0.24191486835479736\n",
      "Development Accuracy: 0.9170182841068917\n",
      "Development classification report:\n",
      "              precision    recall  f1-score   support\n",
      "\n",
      "        B-AC       0.82      0.84      0.83       437\n",
      "        B-LF       0.69      0.62      0.66       342\n",
      "         B-O       0.96      0.95      0.95      5067\n",
      "        I-LF       0.76      0.88      0.82       553\n",
      "         PAD       0.00      0.00      0.00         0\n",
      "\n",
      "    accuracy                           0.92      6399\n",
      "   macro avg       0.65      0.66      0.65      6399\n",
      "weighted avg       0.92      0.92      0.92      6399\n",
      "\n"
     ]
    },
    {
     "name": "stderr",
     "output_type": "stream",
     "text": [
      "/user/HS400/hb01440/.local/lib/python3.10/site-packages/sklearn/metrics/_classification.py:1471: UndefinedMetricWarning: Recall and F-score are ill-defined and being set to 0.0 in labels with no true samples. Use `zero_division` parameter to control this behavior.\n",
      "  _warn_prf(average, modifier, msg_start, len(result))\n",
      "/user/HS400/hb01440/.local/lib/python3.10/site-packages/sklearn/metrics/_classification.py:1471: UndefinedMetricWarning: Recall and F-score are ill-defined and being set to 0.0 in labels with no true samples. Use `zero_division` parameter to control this behavior.\n",
      "  _warn_prf(average, modifier, msg_start, len(result))\n",
      "/user/HS400/hb01440/.local/lib/python3.10/site-packages/sklearn/metrics/_classification.py:1471: UndefinedMetricWarning: Recall and F-score are ill-defined and being set to 0.0 in labels with no true samples. Use `zero_division` parameter to control this behavior.\n",
      "  _warn_prf(average, modifier, msg_start, len(result))\n"
     ]
    },
    {
     "name": "stdout",
     "output_type": "stream",
     "text": [
      "Average train loss: 0.0734260215734442\n",
      "Development loss: 0.2867650866508484\n",
      "Development Accuracy: 0.9195186747929364\n",
      "Development classification report:\n",
      "              precision    recall  f1-score   support\n",
      "\n",
      "        B-AC       0.82      0.85      0.84       437\n",
      "        B-LF       0.70      0.65      0.68       342\n",
      "         B-O       0.96      0.95      0.95      5067\n",
      "        I-LF       0.79      0.84      0.81       553\n",
      "\n",
      "    accuracy                           0.92      6399\n",
      "   macro avg       0.82      0.82      0.82      6399\n",
      "weighted avg       0.92      0.92      0.92      6399\n",
      "\n",
      "Average train loss: 0.05187456666802367\n",
      "Development loss: 0.2916788518428802\n",
      "Development Accuracy: 0.9142053445850914\n",
      "Development classification report:\n",
      "              precision    recall  f1-score   support\n",
      "\n",
      "        B-AC       0.77      0.87      0.82       437\n",
      "        B-LF       0.69      0.62      0.65       342\n",
      "         B-O       0.96      0.95      0.95      5067\n",
      "        I-LF       0.80      0.81      0.80       553\n",
      "         PAD       0.00      0.00      0.00         0\n",
      "\n",
      "    accuracy                           0.91      6399\n",
      "   macro avg       0.64      0.65      0.65      6399\n",
      "weighted avg       0.91      0.91      0.91      6399\n",
      "\n"
     ]
    },
    {
     "name": "stderr",
     "output_type": "stream",
     "text": [
      "/user/HS400/hb01440/.local/lib/python3.10/site-packages/sklearn/metrics/_classification.py:1471: UndefinedMetricWarning: Recall and F-score are ill-defined and being set to 0.0 in labels with no true samples. Use `zero_division` parameter to control this behavior.\n",
      "  _warn_prf(average, modifier, msg_start, len(result))\n",
      "/user/HS400/hb01440/.local/lib/python3.10/site-packages/sklearn/metrics/_classification.py:1471: UndefinedMetricWarning: Recall and F-score are ill-defined and being set to 0.0 in labels with no true samples. Use `zero_division` parameter to control this behavior.\n",
      "  _warn_prf(average, modifier, msg_start, len(result))\n",
      "/user/HS400/hb01440/.local/lib/python3.10/site-packages/sklearn/metrics/_classification.py:1471: UndefinedMetricWarning: Recall and F-score are ill-defined and being set to 0.0 in labels with no true samples. Use `zero_division` parameter to control this behavior.\n",
      "  _warn_prf(average, modifier, msg_start, len(result))\n"
     ]
    },
    {
     "name": "stdout",
     "output_type": "stream",
     "text": [
      "Average train loss: 0.04097185444293751\n",
      "Development loss: 0.3226750373840332\n",
      "Development Accuracy: 0.9168620096890139\n",
      "Development classification report:\n",
      "              precision    recall  f1-score   support\n",
      "\n",
      "        B-AC       0.85      0.84      0.84       437\n",
      "        B-LF       0.67      0.65      0.66       342\n",
      "         B-O       0.96      0.95      0.95      5067\n",
      "        I-LF       0.76      0.87      0.81       553\n",
      "         PAD       0.00      0.00      0.00         0\n",
      "\n",
      "    accuracy                           0.92      6399\n",
      "   macro avg       0.65      0.66      0.65      6399\n",
      "weighted avg       0.92      0.92      0.92      6399\n",
      "\n"
     ]
    },
    {
     "name": "stderr",
     "output_type": "stream",
     "text": [
      "/user/HS400/hb01440/.local/lib/python3.10/site-packages/sklearn/metrics/_classification.py:1471: UndefinedMetricWarning: Recall and F-score are ill-defined and being set to 0.0 in labels with no true samples. Use `zero_division` parameter to control this behavior.\n",
      "  _warn_prf(average, modifier, msg_start, len(result))\n",
      "/user/HS400/hb01440/.local/lib/python3.10/site-packages/sklearn/metrics/_classification.py:1471: UndefinedMetricWarning: Recall and F-score are ill-defined and being set to 0.0 in labels with no true samples. Use `zero_division` parameter to control this behavior.\n",
      "  _warn_prf(average, modifier, msg_start, len(result))\n",
      "/user/HS400/hb01440/.local/lib/python3.10/site-packages/sklearn/metrics/_classification.py:1471: UndefinedMetricWarning: Recall and F-score are ill-defined and being set to 0.0 in labels with no true samples. Use `zero_division` parameter to control this behavior.\n",
      "  _warn_prf(average, modifier, msg_start, len(result))\n"
     ]
    },
    {
     "name": "stdout",
     "output_type": "stream",
     "text": [
      "Average train loss: 0.02895588125102222\n",
      "Development loss: 0.3132831811904907\n",
      "Development Accuracy: 0.9173308329426473\n",
      "Development classification report:\n",
      "              precision    recall  f1-score   support\n",
      "\n",
      "        B-AC       0.79      0.85      0.82       437\n",
      "        B-LF       0.66      0.66      0.66       342\n",
      "         B-O       0.96      0.95      0.95      5067\n",
      "        I-LF       0.82      0.82      0.82       553\n",
      "         PAD       0.00      0.00      0.00         0\n",
      "\n",
      "    accuracy                           0.92      6399\n",
      "   macro avg       0.65      0.66      0.65      6399\n",
      "weighted avg       0.92      0.92      0.92      6399\n",
      "\n"
     ]
    },
    {
     "name": "stderr",
     "output_type": "stream",
     "text": [
      "/user/HS400/hb01440/.local/lib/python3.10/site-packages/sklearn/metrics/_classification.py:1471: UndefinedMetricWarning: Recall and F-score are ill-defined and being set to 0.0 in labels with no true samples. Use `zero_division` parameter to control this behavior.\n",
      "  _warn_prf(average, modifier, msg_start, len(result))\n",
      "/user/HS400/hb01440/.local/lib/python3.10/site-packages/sklearn/metrics/_classification.py:1471: UndefinedMetricWarning: Recall and F-score are ill-defined and being set to 0.0 in labels with no true samples. Use `zero_division` parameter to control this behavior.\n",
      "  _warn_prf(average, modifier, msg_start, len(result))\n",
      "/user/HS400/hb01440/.local/lib/python3.10/site-packages/sklearn/metrics/_classification.py:1471: UndefinedMetricWarning: Recall and F-score are ill-defined and being set to 0.0 in labels with no true samples. Use `zero_division` parameter to control this behavior.\n",
      "  _warn_prf(average, modifier, msg_start, len(result))\n"
     ]
    },
    {
     "name": "stdout",
     "output_type": "stream",
     "text": [
      "Average train loss: 0.02353842785426726\n",
      "Development loss: 0.36783196926116946\n",
      "Development Accuracy: 0.9204563213002032\n",
      "Development classification report:\n",
      "              precision    recall  f1-score   support\n",
      "\n",
      "        B-AC       0.85      0.85      0.85       437\n",
      "        B-LF       0.70      0.65      0.67       342\n",
      "         B-O       0.96      0.95      0.95      5067\n",
      "        I-LF       0.78      0.85      0.82       553\n",
      "\n",
      "    accuracy                           0.92      6399\n",
      "   macro avg       0.82      0.83      0.82      6399\n",
      "weighted avg       0.92      0.92      0.92      6399\n",
      "\n",
      "Average train loss: 0.017442636269455154\n",
      "Development loss: 0.36764477491378783\n",
      "Development Accuracy: 0.9195186747929364\n",
      "Development classification report:\n",
      "              precision    recall  f1-score   support\n",
      "\n",
      "        B-AC       0.84      0.85      0.85       437\n",
      "        B-LF       0.70      0.64      0.67       342\n",
      "         B-O       0.96      0.95      0.96      5067\n",
      "        I-LF       0.78      0.84      0.81       553\n",
      "\n",
      "    accuracy                           0.92      6399\n",
      "   macro avg       0.82      0.82      0.82      6399\n",
      "weighted avg       0.92      0.92      0.92      6399\n",
      "\n",
      "Average train loss: 0.015063948198480325\n",
      "Development loss: 0.39537123441696165\n",
      "Development Accuracy: 0.9157680887638694\n",
      "Development classification report:\n",
      "              precision    recall  f1-score   support\n",
      "\n",
      "        B-AC       0.79      0.87      0.83       437\n",
      "        B-LF       0.67      0.65      0.66       342\n",
      "         B-O       0.96      0.94      0.95      5067\n",
      "        I-LF       0.77      0.86      0.81       553\n",
      "         PAD       0.00      0.00      0.00         0\n",
      "\n",
      "    accuracy                           0.92      6399\n",
      "   macro avg       0.64      0.67      0.65      6399\n",
      "weighted avg       0.92      0.92      0.92      6399\n",
      "\n"
     ]
    },
    {
     "name": "stderr",
     "output_type": "stream",
     "text": [
      "/user/HS400/hb01440/.local/lib/python3.10/site-packages/sklearn/metrics/_classification.py:1471: UndefinedMetricWarning: Recall and F-score are ill-defined and being set to 0.0 in labels with no true samples. Use `zero_division` parameter to control this behavior.\n",
      "  _warn_prf(average, modifier, msg_start, len(result))\n",
      "/user/HS400/hb01440/.local/lib/python3.10/site-packages/sklearn/metrics/_classification.py:1471: UndefinedMetricWarning: Recall and F-score are ill-defined and being set to 0.0 in labels with no true samples. Use `zero_division` parameter to control this behavior.\n",
      "  _warn_prf(average, modifier, msg_start, len(result))\n",
      "/user/HS400/hb01440/.local/lib/python3.10/site-packages/sklearn/metrics/_classification.py:1471: UndefinedMetricWarning: Recall and F-score are ill-defined and being set to 0.0 in labels with no true samples. Use `zero_division` parameter to control this behavior.\n",
      "  _warn_prf(average, modifier, msg_start, len(result))\n"
     ]
    },
    {
     "name": "stdout",
     "output_type": "stream",
     "text": [
      "Average train loss: 0.0124828793729345\n",
      "Development loss: 0.39510796070098875\n",
      "Development Accuracy: 0.9224878887326144\n",
      "Development classification report:\n",
      "              precision    recall  f1-score   support\n",
      "\n",
      "        B-AC       0.83      0.84      0.84       437\n",
      "        B-LF       0.70      0.65      0.68       342\n",
      "         B-O       0.96      0.96      0.96      5067\n",
      "        I-LF       0.81      0.84      0.82       553\n",
      "         PAD       0.00      0.00      0.00         0\n",
      "\n",
      "    accuracy                           0.92      6399\n",
      "   macro avg       0.66      0.66      0.66      6399\n",
      "weighted avg       0.92      0.92      0.92      6399\n",
      "\n"
     ]
    },
    {
     "name": "stderr",
     "output_type": "stream",
     "text": [
      "/user/HS400/hb01440/.local/lib/python3.10/site-packages/sklearn/metrics/_classification.py:1471: UndefinedMetricWarning: Recall and F-score are ill-defined and being set to 0.0 in labels with no true samples. Use `zero_division` parameter to control this behavior.\n",
      "  _warn_prf(average, modifier, msg_start, len(result))\n",
      "/user/HS400/hb01440/.local/lib/python3.10/site-packages/sklearn/metrics/_classification.py:1471: UndefinedMetricWarning: Recall and F-score are ill-defined and being set to 0.0 in labels with no true samples. Use `zero_division` parameter to control this behavior.\n",
      "  _warn_prf(average, modifier, msg_start, len(result))\n",
      "/user/HS400/hb01440/.local/lib/python3.10/site-packages/sklearn/metrics/_classification.py:1471: UndefinedMetricWarning: Recall and F-score are ill-defined and being set to 0.0 in labels with no true samples. Use `zero_division` parameter to control this behavior.\n",
      "  _warn_prf(average, modifier, msg_start, len(result))\n"
     ]
    },
    {
     "name": "stdout",
     "output_type": "stream",
     "text": [
      "Average train loss: 0.010351553763030097\n",
      "Development loss: 0.39085112810134887\n",
      "Development Accuracy: 0.9185810282856697\n",
      "Development classification report:\n",
      "              precision    recall  f1-score   support\n",
      "\n",
      "        B-AC       0.84      0.83      0.84       437\n",
      "        B-LF       0.67      0.66      0.67       342\n",
      "         B-O       0.96      0.95      0.95      5067\n",
      "        I-LF       0.78      0.85      0.81       553\n",
      "         PAD       0.00      0.00      0.00         0\n",
      "\n",
      "    accuracy                           0.92      6399\n",
      "   macro avg       0.65      0.66      0.65      6399\n",
      "weighted avg       0.92      0.92      0.92      6399\n",
      "\n"
     ]
    },
    {
     "name": "stderr",
     "output_type": "stream",
     "text": [
      "/user/HS400/hb01440/.local/lib/python3.10/site-packages/sklearn/metrics/_classification.py:1471: UndefinedMetricWarning: Recall and F-score are ill-defined and being set to 0.0 in labels with no true samples. Use `zero_division` parameter to control this behavior.\n",
      "  _warn_prf(average, modifier, msg_start, len(result))\n",
      "/user/HS400/hb01440/.local/lib/python3.10/site-packages/sklearn/metrics/_classification.py:1471: UndefinedMetricWarning: Recall and F-score are ill-defined and being set to 0.0 in labels with no true samples. Use `zero_division` parameter to control this behavior.\n",
      "  _warn_prf(average, modifier, msg_start, len(result))\n",
      "/user/HS400/hb01440/.local/lib/python3.10/site-packages/sklearn/metrics/_classification.py:1471: UndefinedMetricWarning: Recall and F-score are ill-defined and being set to 0.0 in labels with no true samples. Use `zero_division` parameter to control this behavior.\n",
      "  _warn_prf(average, modifier, msg_start, len(result))\n"
     ]
    },
    {
     "name": "stdout",
     "output_type": "stream",
     "text": [
      "Average train loss: 0.009719640294659056\n",
      "Development loss: 0.39362558126449587\n",
      "Development Accuracy: 0.92139396780747\n",
      "Development classification report:\n",
      "              precision    recall  f1-score   support\n",
      "\n",
      "        B-AC       0.85      0.83      0.84       437\n",
      "        B-LF       0.70      0.65      0.67       342\n",
      "         B-O       0.96      0.96      0.96      5067\n",
      "        I-LF       0.79      0.85      0.82       553\n",
      "         PAD       0.00      0.00      0.00         0\n",
      "\n",
      "    accuracy                           0.92      6399\n",
      "   macro avg       0.66      0.66      0.66      6399\n",
      "weighted avg       0.92      0.92      0.92      6399\n",
      "\n"
     ]
    },
    {
     "name": "stderr",
     "output_type": "stream",
     "text": [
      "/user/HS400/hb01440/.local/lib/python3.10/site-packages/sklearn/metrics/_classification.py:1471: UndefinedMetricWarning: Recall and F-score are ill-defined and being set to 0.0 in labels with no true samples. Use `zero_division` parameter to control this behavior.\n",
      "  _warn_prf(average, modifier, msg_start, len(result))\n",
      "/user/HS400/hb01440/.local/lib/python3.10/site-packages/sklearn/metrics/_classification.py:1471: UndefinedMetricWarning: Recall and F-score are ill-defined and being set to 0.0 in labels with no true samples. Use `zero_division` parameter to control this behavior.\n",
      "  _warn_prf(average, modifier, msg_start, len(result))\n",
      "/user/HS400/hb01440/.local/lib/python3.10/site-packages/sklearn/metrics/_classification.py:1471: UndefinedMetricWarning: Recall and F-score are ill-defined and being set to 0.0 in labels with no true samples. Use `zero_division` parameter to control this behavior.\n",
      "  _warn_prf(average, modifier, msg_start, len(result))\n"
     ]
    },
    {
     "name": "stdout",
     "output_type": "stream",
     "text": [
      "Average train loss: 0.006525074193228243\n",
      "Development loss: 0.41670777201652526\n",
      "Development Accuracy: 0.9185810282856697\n",
      "Development classification report:\n",
      "              precision    recall  f1-score   support\n",
      "\n",
      "        B-AC       0.81      0.87      0.84       437\n",
      "        B-LF       0.68      0.65      0.66       342\n",
      "         B-O       0.96      0.95      0.95      5067\n",
      "        I-LF       0.79      0.84      0.81       553\n",
      "\n",
      "    accuracy                           0.92      6399\n",
      "   macro avg       0.81      0.83      0.82      6399\n",
      "weighted avg       0.92      0.92      0.92      6399\n",
      "\n",
      "Average train loss: 0.006416388560966071\n",
      "Development loss: 0.4240307152271271\n",
      "Development Accuracy: 0.9154555399281138\n",
      "Development classification report:\n",
      "              precision    recall  f1-score   support\n",
      "\n",
      "        B-AC       0.81      0.87      0.84       437\n",
      "        B-LF       0.65      0.67      0.66       342\n",
      "         B-O       0.96      0.94      0.95      5067\n",
      "        I-LF       0.77      0.85      0.81       553\n",
      "\n",
      "    accuracy                           0.92      6399\n",
      "   macro avg       0.80      0.83      0.81      6399\n",
      "weighted avg       0.92      0.92      0.92      6399\n",
      "\n",
      "Average train loss: 0.005984820431977924\n",
      "Development loss: 0.4258090078830719\n",
      "Development Accuracy: 0.9167057352711361\n",
      "Development classification report:\n",
      "              precision    recall  f1-score   support\n",
      "\n",
      "        B-AC       0.82      0.86      0.84       437\n",
      "        B-LF       0.68      0.63      0.66       342\n",
      "         B-O       0.96      0.95      0.95      5067\n",
      "        I-LF       0.76      0.85      0.80       553\n",
      "\n",
      "    accuracy                           0.92      6399\n",
      "   macro avg       0.81      0.82      0.81      6399\n",
      "weighted avg       0.92      0.92      0.92      6399\n",
      "\n",
      "Average train loss: 0.005437624317386912\n",
      "Development loss: 0.42356790900230407\n",
      "Development Accuracy: 0.9174871073605251\n",
      "Development classification report:\n",
      "              precision    recall  f1-score   support\n",
      "\n",
      "        B-AC       0.81      0.86      0.84       437\n",
      "        B-LF       0.68      0.65      0.66       342\n",
      "         B-O       0.96      0.95      0.95      5067\n",
      "        I-LF       0.78      0.84      0.81       553\n",
      "\n",
      "    accuracy                           0.92      6399\n",
      "   macro avg       0.81      0.83      0.82      6399\n",
      "weighted avg       0.92      0.92      0.92      6399\n",
      "\n",
      "Average train loss: 0.004555185301190552\n",
      "Development loss: 0.42865607142448425\n",
      "Development Accuracy: 0.9163931864353805\n",
      "Development classification report:\n",
      "              precision    recall  f1-score   support\n",
      "\n",
      "        B-AC       0.81      0.87      0.84       437\n",
      "        B-LF       0.67      0.65      0.66       342\n",
      "         B-O       0.96      0.95      0.95      5067\n",
      "        I-LF       0.77      0.85      0.81       553\n",
      "\n",
      "    accuracy                           0.92      6399\n",
      "   macro avg       0.80      0.83      0.81      6399\n",
      "weighted avg       0.92      0.92      0.92      6399\n",
      "\n",
      "Saving model to ./model_save/\n",
      "CPU times: user 4min 18s, sys: 6.66 s, total: 4min 25s\n",
      "Wall time: 4min 29s\n"
     ]
    },
    {
     "data": {
      "text/plain": [
       "('./model_save/tokenizer_config.json',\n",
       " './model_save/special_tokens_map.json',\n",
       " './model_save/vocab.txt',\n",
       " './model_save/added_tokens.json')"
      ]
     },
     "execution_count": 16,
     "metadata": {},
     "output_type": "execute_result"
    }
   ],
   "source": [
    "%%time \n",
    "\n",
    "loss_values, development_loss_values = [], []\n",
    "\n",
    "for _ in range(epochs):\n",
    "    \n",
    "    model.train()\n",
    "    total_loss = 0\n",
    "\n",
    "    for step, batch in enumerate(train_dataloader):\n",
    "        batch = tuple(t.to(device) for t in batch)\n",
    "        b_input_ids, b_input_mask, b_labels = batch\n",
    "        model.zero_grad()\n",
    "        outputs = model(b_input_ids, token_type_ids=None,\n",
    "                        attention_mask=b_input_mask, labels=b_labels)\n",
    "        loss = outputs[0]\n",
    "        loss.backward()\n",
    "        total_loss += loss.item()\n",
    "        torch.nn.utils.clip_grad_norm_(parameters=model.parameters(), max_norm=max_grad_norm)\n",
    "        optimizer.step()\n",
    "        scheduler.step()\n",
    "\n",
    "    avg_train_loss = total_loss / len(train_dataloader)\n",
    "    print(\"Average train loss: {}\".format(avg_train_loss))\n",
    "    \n",
    "\n",
    "    loss_values.append(avg_train_loss)\n",
    "\n",
    "    model.eval()\n",
    "    eval_loss, eval_accuracy = 0, 0\n",
    "    nb_eval_steps, nb_eval_examples = 0, 0\n",
    "    predictions , true_labels = [], []\n",
    "    for batch in val_dataloader:\n",
    "        batch = tuple(t.to(device) for t in batch)\n",
    "        b_input_ids, b_input_mask, b_labels = batch\n",
    "\n",
    "        with torch.no_grad():\n",
    "            outputs = model(b_input_ids, token_type_ids=None,\n",
    "                            attention_mask=b_input_mask, labels=b_labels)\n",
    "        logits = outputs[1].detach().cpu().numpy()\n",
    "        label_ids = b_labels.to('cpu').numpy()\n",
    "\n",
    "        eval_loss += outputs[0].mean().item()\n",
    "        predictions.extend([list(p) for p in np.argmax(logits, axis=2)])\n",
    "        true_labels.extend(label_ids)\n",
    "\n",
    "    eval_loss = eval_loss / len(val_dataloader)\n",
    "    development_loss_values.append(eval_loss)\n",
    "    print(\"Development loss: {}\".format(eval_loss))\n",
    "    pred_tags = [tag_values[p_i] for p, l in zip(predictions, true_labels)\n",
    "                                 for p_i, l_i in zip(p, l) if tag_values[l_i] != \"PAD\"]\n",
    "    dev_tags = [tag_values[l_i] for l in true_labels\n",
    "                                  for l_i in l if tag_values[l_i] != \"PAD\"]\n",
    "    print(\"Development Accuracy: {}\".format(accuracy_score(pred_tags, dev_tags)))\n",
    "    \n",
    "    print(\"Development classification report:\\n{}\".format(class_rep(dev_tags, pred_tags)))\n",
    "\n",
    "print(\"Saving model to %s\" % output_dir)\n",
    "model.save_pretrained(output_dir)\n",
    "tokenizer.save_pretrained(output_dir)\n"
   ]
  },
  {
   "cell_type": "code",
   "execution_count": 17,
   "id": "6083fbbf-178c-40fa-8efa-125231377b1b",
   "metadata": {},
   "outputs": [],
   "source": [
    "import json\n",
    "with open(os.path.join(output_dir, 'tag2idx.json'), 'w') as f:\n",
    "    json.dump(tag2idx, f)"
   ]
  },
  {
   "cell_type": "code",
   "execution_count": 18,
   "id": "5a205b84-48bc-402c-bcfe-5732c351a880",
   "metadata": {},
   "outputs": [
    {
     "name": "stdout",
     "output_type": "stream",
     "text": [
      "Test Accuracy: 0.915150673517567\n",
      "Test classification report:               precision    recall  f1-score   support\n",
      "\n",
      "        B-AC       0.79      0.77      0.78       546\n",
      "        B-LF       0.70      0.68      0.69       376\n",
      "         B-O       0.95      0.96      0.95      5663\n",
      "        I-LF       0.84      0.77      0.80       614\n",
      "         PAD       0.00      0.00      0.00         2\n",
      "\n",
      "    accuracy                           0.92      7201\n",
      "   macro avg       0.65      0.64      0.65      7201\n",
      "weighted avg       0.91      0.92      0.91      7201\n",
      "\n",
      "\n"
     ]
    },
    {
     "name": "stderr",
     "output_type": "stream",
     "text": [
      "/user/HS400/hb01440/.local/lib/python3.10/site-packages/sklearn/metrics/_classification.py:1471: UndefinedMetricWarning: Precision and F-score are ill-defined and being set to 0.0 in labels with no predicted samples. Use `zero_division` parameter to control this behavior.\n",
      "  _warn_prf(average, modifier, msg_start, len(result))\n",
      "/user/HS400/hb01440/.local/lib/python3.10/site-packages/sklearn/metrics/_classification.py:1471: UndefinedMetricWarning: Precision and F-score are ill-defined and being set to 0.0 in labels with no predicted samples. Use `zero_division` parameter to control this behavior.\n",
      "  _warn_prf(average, modifier, msg_start, len(result))\n",
      "/user/HS400/hb01440/.local/lib/python3.10/site-packages/sklearn/metrics/_classification.py:1471: UndefinedMetricWarning: Precision and F-score are ill-defined and being set to 0.0 in labels with no predicted samples. Use `zero_division` parameter to control this behavior.\n",
      "  _warn_prf(average, modifier, msg_start, len(result))\n",
      "/user/HS400/hb01440/.local/lib/python3.10/site-packages/sklearn/metrics/_classification.py:1471: UndefinedMetricWarning: Recall and F-score are ill-defined and being set to 0.0 in labels with no true samples. Use `zero_division` parameter to control this behavior.\n",
      "  _warn_prf(average, modifier, msg_start, len(result))\n",
      "/user/HS400/hb01440/.local/lib/python3.10/site-packages/sklearn/metrics/_classification.py:1471: UndefinedMetricWarning: Recall and F-score are ill-defined and being set to 0.0 in labels with no true samples. Use `zero_division` parameter to control this behavior.\n",
      "  _warn_prf(average, modifier, msg_start, len(result))\n",
      "/user/HS400/hb01440/.local/lib/python3.10/site-packages/sklearn/metrics/_classification.py:1471: UndefinedMetricWarning: Recall and F-score are ill-defined and being set to 0.0 in labels with no true samples. Use `zero_division` parameter to control this behavior.\n",
      "  _warn_prf(average, modifier, msg_start, len(result))\n"
     ]
    }
   ],
   "source": [
    "model.eval()\n",
    "nb_eval_steps, nb_eval_examples = 0, 0\n",
    "predictions , true_labels = [], []\n",
    "\n",
    "input_ids_list = []\n",
    "\n",
    "for batch in test_dataloader:\n",
    "\n",
    "    batch = tuple(t.to(device) for t in batch)\n",
    "    b_input_ids, b_input_mask, b_labels = batch\n",
    "\n",
    "    with torch.no_grad():\n",
    "        outputs = model(b_input_ids, token_type_ids=None,\n",
    "                            attention_mask=b_input_mask, labels=b_labels)\n",
    "    logits = outputs[1].detach().cpu().numpy()\n",
    "    label_ids = b_labels.to('cpu').numpy()\n",
    "    input_ids_list.extend(b_input_ids)\n",
    "    \n",
    "    eval_loss += outputs[0].mean().item()\n",
    "    predictions.extend([list(p) for p in np.argmax(logits, axis=2)])\n",
    "    true_labels.extend(label_ids)\n",
    "\n",
    "pred_tags = [tag_values[p_i] for p, l in zip(predictions, true_labels)\n",
    "                                 for p_i, l_i in zip(p, l) if tag_values[l_i] != \"PAD\"]\n",
    "test_tags = [tag_values[l_i] for l in true_labels\n",
    "                                  for l_i in l if tag_values[l_i] != \"PAD\"]\n",
    "print(\"Test Accuracy: {}\".format(accuracy_score(pred_tags, test_tags),digits=4))\n",
    "print(\"Test classification report: {}\".format(class_rep(pred_tags, test_tags)))\n",
    "print()\n",
    "\n",
    "report_fbert_dict = class_rep(test_tags, pred_tags, output_dict=True)\n"
   ]
  },
  {
   "cell_type": "code",
   "execution_count": 20,
   "id": "cdd73cde-25bb-4a4d-8a92-11f7d67d0931",
   "metadata": {},
   "outputs": [
    {
     "name": "stderr",
     "output_type": "stream",
     "text": [
      "100%|████████████████████████████████████████| 100/100 [00:00<00:00, 234.03it/s]\n"
     ]
    }
   ],
   "source": [
    "import pandas as pd\n",
    "from tqdm import tqdm\n",
    "import time\n",
    "\n",
    "test_sentences = [\n",
    "    \"The internationalization (i18n) of our software will be a challenging endeavor.\",\n",
    "    \"The environmental conservationists were discussing the impact of chlorofluorocarbons (CFCs).\",\n",
    "    \"The telecommunications industry often relies on the Global Positioning System (GPS).\",\n",
    "    \"The anthropomorphization in the AI-generated content is quite impressive.\",\n",
    "    \"The new hyperconverged infrastructure (HCI) system is both efficient and scalable.\",\n",
    "    \"The bioluminescence in the ocean was a topic of study for the marine biologists (MB).\",\n",
    "    \"The geostationary operational environmental satellite (GOES) is crucial for weather monitoring.\",\n",
    "    \"The thermoelectric power generation (TEG) technology is gaining traction.\",\n",
    "    \"The hypertext transfer protocol secure (HTTPS) ensures secure communications over the internet.\",\n",
    "    \"The archaeologists used ground-penetrating radar (GPR) to locate ancient structures.\",\n",
    "    \"The mechanotransduction in cells is vital for understanding various biological processes.\",\n",
    "    \"The neurolinguistics programming (NLP) techniques are used in therapy sessions.\",\n",
    "    \"The intercontinental ballistic missile (ICBM) tests are a matter of global concern.\",\n",
    "    \"The deoxyribonucleic acid (DNA) sequencing has revolutionized genetic research.\",\n",
    "    \"The photosensitivity of the material was enhanced using specific treatments.\",\n",
    "    \"The superconducting quantum interference device (SQUID) is used in sensitive magnetic measurements.\",\n",
    "    \"The microelectromechanical systems (MEMS) are integral to modern technology.\",\n",
    "    \"The artificial intelligence (AI) algorithms are improving rapidly.\",\n",
    "    \"The photosynthesis process is crucial for plant life on Earth.\",\n",
    "    \"The electroencephalogram (EEG) readings showed unusual brain activity.\",\n",
    "    \"The psychopharmacological studies are essential for developing new medications.\",\n",
    "    \"The ultrasonography (USG) was used to monitor the developing fetus.\",\n",
    "    \"The semiconductor industry relies heavily on photolithography techniques.\",\n",
    "    \"The antihypertensive medication helped in controlling high blood pressure.\",\n",
    "    \"The electrocardiogram (ECG) results indicated a need for further testing.\",\n",
    "    \"The climatologists are worried about the anthropogenic effects on climate change.\",\n",
    "    \"The software development kit (SDK) includes comprehensive tools and documentation.\",\n",
    "    \"The astronomers observed a new exoplanet using the Hubble Space Telescope (HST).\",\n",
    "    \"The biocompatibility of the new implant material was tested extensively.\",\n",
    "    \"The forensic anthropologists identified the remains using mitochondrial DNA (mtDNA).\",\n",
    "    \"The photosynthetic efficiency of the new plant variety was remarkable.\",\n",
    "    \"The cardiopulmonary resuscitation (CPR) training is essential for emergency responders.\",\n",
    "    \"The electromagnetic interference (EMI) was causing issues with the equipment.\",\n",
    "    \"The magnetohydrodynamics (MHD) principles are applied in nuclear fusion research.\",\n",
    "    \"The organizational behavior (OB) study focused on employee motivation.\",\n",
    "    \"The phytoremediation techniques are used to clean up contaminated soils.\",\n",
    "    \"The paleoclimatology studies provide insights into ancient weather patterns.\",\n",
    "    \"The nanotechnology applications in medicine are expanding rapidly.\",\n",
    "    \"The comprehensive metabolic panel (CMP) is a common blood test.\",\n",
    "    \"The electromagnetic spectrum (EMS) includes various types of radiation.\",\n",
    "    \"The sociocultural anthropology explores the relationship between cultures and societies.\",\n",
    "    \"The hyperbaric oxygen therapy (HBOT) is used to treat various conditions.\",\n",
    "    \"The bioluminescent organisms in the deep sea create a mesmerizing display.\",\n",
    "    \"The endocrinologists study the impact of hormones on human health.\",\n",
    "    \"The computerized tomography (CT) scan revealed the extent of the injury.\",\n",
    "    \"The aerodynamic properties of the new aircraft design were tested in a wind tunnel.\",\n",
    "    \"The immunohistochemistry (IHC) is used to diagnose diseases in tissue samples.\",\n",
    "    \"The bioluminescence was most noticeable in the plankton samples collected.\",\n",
    "    \"The hematopoietic stem cells (HSCs) are crucial for blood formation.\",\n",
    "    \"The electromechanical systems are integral to modern robotics.\",\n",
    "    \"The thermodynamic stability of the compound was analyzed in the lab.\",\n",
    "    \"The microprocessor performance has been significantly enhanced.\",\n",
    "    \"The electrophysiology studies provided insights into heart function.\",\n",
    "    \"The organizational development (OD) strategies were discussed in the meeting.\",\n",
    "    \"The psychoeducational assessments help in identifying learning disabilities.\",\n",
    "    \"The geostationary satellites provide constant monitoring of weather patterns.\",\n",
    "    \"The ultramicroscopic details of the sample were revealed using electron microscopy.\",\n",
    "    \"The biomechanical engineering field combines biology and mechanics.\",\n",
    "    \"The hydroelectric power plants generate energy from flowing water.\",\n",
    "    \"The psychophysiological responses were measured during the experiment.\",\n",
    "    \"The gastroenterologists specialize in the digestive system.\",\n",
    "    \"The thermoelectric materials convert heat into electricity.\",\n",
    "    \"The archeological discoveries were presented at the international conference (IC).\",\n",
    "    \"The electrophoresis technique is used to separate DNA fragments.\",\n",
    "    \"The geophysicists study the physical properties of the Earth.\",\n",
    "    \"The hyperthyroidism was treated with medication and lifestyle changes.\",\n",
    "    \"The biopharmaceutical industry is growing rapidly.\",\n",
    "    \"The thermoluminescence dating method is used in archeology.\",\n",
    "    \"The spectrophotometer measures the intensity of light in a sample.\",\n",
    "    \"The immunodeficiency was diagnosed based on the patient's history.\",\n",
    "    \"The paramedics performed advanced life support (ALS) procedures.\",\n",
    "    \"The microclimatology studies focus on small-scale weather patterns.\",\n",
    "    \"The electrooculography (EOG) tracks eye movements.\",\n",
    "    \"The interdisciplinary research team included experts from various fields.\",\n",
    "    \"The pharmacokinetics of the new drug were studied in clinical trials.\",\n",
    "    \"The petrochemical industry produces a wide range of products.\",\n",
    "    \"The photovoltaic cells convert sunlight into electricity.\",\n",
    "    \"The climatological data were analyzed to predict future weather trends.\",\n",
    "    \"The geotechnical engineering principles are applied in construction.\",\n",
    "    \"The macromolecular structure of the protein was determined using X-ray crystallography.\",\n",
    "    \"The telecommunication networks rely on fiber optic technology.\",\n",
    "    \"The psychotropic medications are used to treat mental health conditions.\",\n",
    "    \"The paleoanthropology research provided insights into early human life.\",\n",
    "    \"The electrochromic materials change color when an electric field is applied.\",\n",
    "    \"The electrocardiography (ECG) technician monitored the patient's heart.\",\n",
    "    \"The sociolinguistic study focused on language use in different communities.\",\n",
    "    \"The hypersonic speeds were achieved by the new aircraft prototype.\",\n",
    "    \"The electroencephalography (EEG) recorded the brain's electrical activity.\",\n",
    "    \"The thermoplastic materials become pliable at certain temperatures.\",\n",
    "    \"The microbiological analysis revealed the presence of harmful bacteria.\",\n",
    "    \"The spectroscopic analysis was used to determine the chemical composition.\",\n",
    "    \"The anthropomorphization in the robot's design made it more relatable.\",\n",
    "    \"The orthopedic surgeons specialize in the musculoskeletal system.\",\n",
    "    \"The telehealth services expanded access to medical care.\",\n",
    "    \"The neurophysiology lab studied the nervous system functions.\",\n",
    "    \"The hydrogeological studies were important for managing water resources.\",\n",
    "    \"The aerodynamics of the new car design improved fuel efficiency.\",\n",
    "    \"The hematological disorders were treated with specialized medications.\",\n",
    "    \"The bacteriological tests confirmed the infection.\",\n",
    "    \"The astrophysicists presented their findings on black holes at the symposium.\"\n",
    "]\n",
    "\n",
    "\n"
   ]
  },
  {
   "cell_type": "code",
   "execution_count": 93,
   "id": "0a8fcb99-f2e6-453f-b94a-54b822b3b497",
   "metadata": {},
   "outputs": [],
   "source": [
    "exaggerated_test_sentences = test_sentences * 10"
   ]
  },
  {
   "cell_type": "code",
   "execution_count": 85,
   "id": "d25b8081-efbd-45a3-b6fe-0ee581ec7187",
   "metadata": {},
   "outputs": [],
   "source": [
    "endpoint_url = 'http://127.0.0.1:5000/predict_json'"
   ]
  },
  {
   "cell_type": "code",
   "execution_count": 86,
   "id": "ac9e5bdf-22c6-4a97-b58d-569889190e01",
   "metadata": {},
   "outputs": [],
   "source": [
    "import requests\n",
    "from tqdm import tqdm\n",
    "import pandas as pd\n",
    "import time\n",
    "import concurrent.futures\n",
    "\n",
    "def predict_sentence_json(sentence, endpoint_url):\n",
    "    payload = {'sentence': sentence}\n",
    "    response = requests.post(endpoint_url, json=payload)\n",
    "    \n",
    "    if response.status_code == 200:\n",
    "        return response.json().get('predicted_tags', [])\n",
    "    else:\n",
    "        return f'Error: {response.status_code}'\n",
    "\n",
    "\n",
    "\n",
    "\n"
   ]
  },
  {
   "cell_type": "code",
   "execution_count": 87,
   "id": "68cb068b-ffbd-4e4f-8b39-677748768895",
   "metadata": {},
   "outputs": [
    {
     "name": "stderr",
     "output_type": "stream",
     "text": [
      "100%|█████████████████████████████████████████| 100/100 [00:03<00:00, 26.60it/s]\n"
     ]
    }
   ],
   "source": [
    "results = []\n",
    "for sentence in tqdm(test_sentences):\n",
    "    start_time = time.time()\n",
    "    predicted_tags = predict_sentence(sentence, endpoint_url)\n",
    "    end_time = time.time()\n",
    "    response_time = end_time - start_time\n",
    "    results.append({'sentence': sentence, 'predicted_tags': predicted_tags, 'response_time': response_time})\n",
    "\n",
    "df_results = pd.DataFrame(results)\n"
   ]
  },
  {
   "cell_type": "code",
   "execution_count": 88,
   "id": "a12a5752-6946-41df-9316-68f0cb29d4d2",
   "metadata": {},
   "outputs": [
    {
     "name": "stdout",
     "output_type": "stream",
     "text": [
      "Mean response time: 0.037 seconds\n",
      "Median response time: 0.030 seconds\n",
      "90th percentile response time: 0.036 seconds\n"
     ]
    }
   ],
   "source": [
    "print(f'Mean response time: {df_results[\"response_time\"].mean():.3f} seconds')\n",
    "print(f'Median response time: {df_results[\"response_time\"].median():.3f} seconds')\n",
    "print(f'90th percentile response time: {df_results[\"response_time\"].quantile(0.9):.3f} seconds')"
   ]
  },
  {
   "cell_type": "code",
   "execution_count": 89,
   "id": "a45b17ec-c70f-4551-845e-c294a5dca3b6",
   "metadata": {},
   "outputs": [],
   "source": [
    "def stress_test(num_requests, endpoint_url):\n",
    "    with concurrent.futures.ThreadPoolExecutor() as executor:\n",
    "        futures = [executor.submit(predict_sentence, sentence, endpoint_url) for sentence in test_sentences[:num_requests]]\n",
    "        results = [future.result() for future in concurrent.futures.as_completed(futures)]\n",
    "    return results"
   ]
  },
  {
   "cell_type": "code",
   "execution_count": 90,
   "id": "00940c4d-ffe7-40dd-8980-85d2947df86a",
   "metadata": {},
   "outputs": [
    {
     "name": "stdout",
     "output_type": "stream",
     "text": [
      "[[['The', 'B-O'], ['telecommunications', 'B-O'], ['industry', 'B-O'], ['often', 'B-O'], ['relies', 'B-O'], ['on', 'B-O'], ['the', 'B-O'], ['Global', 'B-LF'], ['Positioning', 'I-LF'], ['System', 'I-LF'], ['(', 'B-O'], ['GPS', 'B-AC'], [')', 'B-O'], ['.', 'B-O']], [['The', 'B-O'], ['environmental', 'B-O'], ['conservationists', 'B-O'], ['were', 'B-O'], ['discussing', 'B-O'], ['the', 'B-O'], ['impact', 'B-O'], ['of', 'B-O'], ['chlorofluorocarbons', 'B-LF'], ['(', 'B-O'], ['CFCs', 'B-AC'], [')', 'B-O'], ['.', 'B-O']], [['The', 'B-O'], ['internationalization', 'B-LF'], ['(', 'B-O'], ['i18n', 'B-AC'], [')', 'B-O'], ['of', 'B-O'], ['our', 'B-O'], ['software', 'B-O'], ['will', 'B-O'], ['be', 'B-O'], ['a', 'B-O'], ['challenging', 'B-O'], ['endeavor', 'B-O'], ['.', 'B-O']], [['The', 'B-O'], ['anthropomorphization', 'B-O'], ['in', 'B-O'], ['the', 'B-O'], ['AI', 'B-AC'], ['-', 'B-O'], ['generated', 'B-O'], ['content', 'B-O'], ['is', 'B-O'], ['quite', 'B-O'], ['impressive', 'B-O'], ['.', 'B-O']], [['The', 'B-O'], ['thermoelectric', 'B-LF'], ['power', 'I-LF'], ['generation', 'I-LF'], ['(', 'B-O'], ['TEG', 'B-AC'], [')', 'B-O'], ['technology', 'B-O'], ['is', 'B-O'], ['gaining', 'B-O'], ['traction', 'B-O'], ['.', 'B-O']], [['The', 'B-O'], ['new', 'B-LF'], ['hyperconverged', 'I-LF'], ['infrastructure', 'I-LF'], ['(', 'B-O'], ['HCI', 'B-AC'], [')', 'B-O'], ['system', 'B-O'], ['is', 'B-O'], ['both', 'B-O'], ['efficient', 'B-O'], ['and', 'B-O'], ['scalable', 'B-O'], ['.', 'B-O']], [['The', 'B-O'], ['intercontinental', 'B-LF'], ['ballistic', 'I-LF'], ['missile', 'I-LF'], ['(', 'B-O'], ['ICBM', 'B-AC'], [')', 'B-O'], ['tests', 'B-O'], ['are', 'B-O'], ['a', 'B-O'], ['matter', 'B-O'], ['of', 'B-O'], ['global', 'B-O'], ['concern', 'B-O'], ['.', 'B-O']], [['The', 'B-O'], ['neurolinguistics', 'B-LF'], ['programming', 'I-LF'], ['(', 'B-O'], ['NLP', 'B-AC'], [')', 'B-O'], ['techniques', 'B-O'], ['are', 'B-O'], ['used', 'B-O'], ['in', 'B-O'], ['therapy', 'B-O'], ['sessions', 'B-O'], ['.', 'B-O']], [['The', 'B-O'], ['geostationary', 'B-LF'], ['operational', 'I-LF'], ['environmental', 'I-LF'], ['satellite', 'I-LF'], ['(', 'B-O'], ['GOES', 'B-AC'], [')', 'B-O'], ['is', 'B-O'], ['crucial', 'B-O'], ['for', 'B-O'], ['weather', 'B-O'], ['monitoring', 'B-O'], ['.', 'B-O']], [['The', 'B-O'], ['hypertext', 'B-LF'], ['transfer', 'I-LF'], ['protocol', 'I-LF'], ['secure', 'I-LF'], ['(', 'B-O'], ['HTTPS', 'B-AC'], [')', 'B-O'], ['ensures', 'B-O'], ['secure', 'B-O'], ['communications', 'B-O'], ['over', 'B-O'], ['the', 'B-O'], ['internet', 'B-O'], ['.', 'B-O']], [['The', 'B-O'], ['photosensitivity', 'B-O'], ['of', 'B-O'], ['the', 'B-O'], ['material', 'B-O'], ['was', 'B-O'], ['enhanced', 'B-O'], ['using', 'B-O'], ['specific', 'B-O'], ['treatments', 'B-O'], ['.', 'B-O']], [['The', 'B-O'], ['archaeologists', 'B-O'], ['used', 'B-O'], ['ground', 'B-LF'], ['-', 'I-LF'], ['penetrating', 'I-LF'], ['radar', 'I-LF'], ['(', 'B-O'], ['GPR', 'B-AC'], [')', 'B-O'], ['to', 'B-O'], ['locate', 'B-O'], ['ancient', 'B-O'], ['structures', 'B-O'], ['.', 'B-O']], [['The', 'B-O'], ['bioluminescence', 'B-O'], ['in', 'B-O'], ['the', 'B-O'], ['ocean', 'B-O'], ['was', 'B-O'], ['a', 'B-O'], ['topic', 'B-O'], ['of', 'B-O'], ['study', 'B-O'], ['for', 'B-O'], ['the', 'B-O'], ['marine', 'B-LF'], ['biologists', 'I-LF'], ['(', 'B-O'], ['MB', 'B-AC'], [')', 'B-O'], ['.', 'B-O']], [['The', 'B-O'], ['superconducting', 'B-LF'], ['quantum', 'B-LF'], ['interference', 'I-LF'], ['device', 'I-LF'], ['(', 'B-O'], ['SQUID', 'B-AC'], [')', 'B-O'], ['is', 'B-O'], ['used', 'B-O'], ['in', 'B-O'], ['sensitive', 'B-O'], ['magnetic', 'B-O'], ['measurements', 'B-O'], ['.', 'B-O']], [['The', 'B-O'], ['mechanotransduction', 'B-O'], ['in', 'B-O'], ['cells', 'B-O'], ['is', 'B-O'], ['vital', 'B-O'], ['for', 'B-O'], ['understanding', 'B-O'], ['various', 'B-O'], ['biological', 'B-O'], ['processes', 'B-O'], ['.', 'B-O']], [['The', 'B-O'], ['deoxyribonucleic', 'B-LF'], ['acid', 'I-LF'], ['(', 'B-O'], ['DNA', 'B-AC'], [')', 'B-O'], ['sequencing', 'B-O'], ['has', 'B-O'], ['revolutionized', 'B-O'], ['genetic', 'B-O'], ['research', 'B-O'], ['.', 'B-O']], [['The', 'B-O'], ['photosynthesis', 'B-O'], ['process', 'B-O'], ['is', 'B-O'], ['crucial', 'B-O'], ['for', 'B-O'], ['plant', 'B-O'], ['life', 'B-O'], ['on', 'B-O'], ['Earth', 'B-O'], ['.', 'B-O']], [['The', 'B-O'], ['artificial', 'B-LF'], ['intelligence', 'I-LF'], ['(', 'B-O'], ['AI', 'B-AC'], [')', 'B-O'], ['algorithms', 'B-O'], ['are', 'B-O'], ['improving', 'B-O'], ['rapidly', 'B-O'], ['.', 'B-O']], [['The', 'B-O'], ['electroencephalogram', 'B-LF'], ['(', 'B-O'], ['EEG', 'B-AC'], [')', 'B-O'], ['readings', 'B-O'], ['showed', 'B-O'], ['unusual', 'B-O'], ['brain', 'B-O'], ['activity', 'B-O'], ['.', 'B-O']], [['The', 'B-O'], ['microelectromechanical', 'B-LF'], ['systems', 'I-LF'], ['(', 'B-O'], ['MEMS', 'B-AC'], [')', 'B-O'], ['are', 'B-O'], ['integral', 'B-O'], ['to', 'B-O'], ['modern', 'B-O'], ['technology', 'B-O'], ['.', 'B-O']], [['The', 'B-O'], ['psychopharmacological', 'B-O'], ['studies', 'B-O'], ['are', 'B-O'], ['essential', 'B-O'], ['for', 'B-O'], ['developing', 'B-O'], ['new', 'B-O'], ['medications', 'B-O'], ['.', 'B-O']], [['The', 'B-O'], ['software', 'B-LF'], ['development', 'I-LF'], ['kit', 'I-LF'], ['(', 'B-O'], ['SDK', 'B-AC'], [')', 'B-O'], ['includes', 'B-O'], ['comprehensive', 'B-O'], ['tools', 'B-O'], ['and', 'B-O'], ['documentation', 'B-O'], ['.', 'B-O']], [['The', 'B-O'], ['electrocardiogram', 'B-LF'], ['(', 'B-O'], ['ECG', 'B-AC'], [')', 'B-O'], ['results', 'B-O'], ['indicated', 'B-O'], ['a', 'B-O'], ['need', 'B-O'], ['for', 'B-O'], ['further', 'B-O'], ['testing', 'B-O'], ['.', 'B-O']], [['The', 'B-O'], ['semiconductor', 'B-LF'], ['industry', 'B-O'], ['relies', 'B-O'], ['heavily', 'B-O'], ['on', 'B-O'], ['photolithography', 'B-O'], ['techniques', 'B-O'], ['.', 'B-O']], [['The', 'B-O'], ['antihypertensive', 'B-O'], ['medication', 'B-O'], ['helped', 'B-O'], ['in', 'B-O'], ['controlling', 'B-O'], ['high', 'B-O'], ['blood', 'B-O'], ['pressure', 'B-O'], ['.', 'B-O']], [['The', 'B-O'], ['biocompatibility', 'B-O'], ['of', 'B-O'], ['the', 'B-O'], ['new', 'B-O'], ['implant', 'B-O'], ['material', 'B-O'], ['was', 'B-O'], ['tested', 'B-O'], ['extensively', 'B-O'], ['.', 'B-O']], [['The', 'B-O'], ['climatologists', 'B-O'], ['are', 'B-O'], ['worried', 'B-O'], ['about', 'B-O'], ['the', 'B-O'], ['anthropogenic', 'B-O'], ['effects', 'B-O'], ['on', 'B-O'], ['climate', 'B-O'], ['change', 'B-O'], ['.', 'B-O']], [['The', 'B-O'], ['photosynthetic', 'B-O'], ['efficiency', 'B-O'], ['of', 'B-O'], ['the', 'B-O'], ['new', 'B-O'], ['plant', 'B-O'], ['variety', 'B-O'], ['was', 'B-O'], ['remarkable', 'B-O'], ['.', 'B-O']], [['The', 'B-O'], ['ultrasonography', 'B-LF'], ['(', 'B-O'], ['USG', 'B-AC'], [')', 'B-O'], ['was', 'B-O'], ['used', 'B-O'], ['to', 'B-O'], ['monitor', 'B-O'], ['the', 'B-O'], ['developing', 'B-O'], ['fetus', 'B-O'], ['.', 'B-O']], [['The', 'B-O'], ['forensic', 'B-O'], ['anthropologists', 'B-O'], ['identified', 'B-O'], ['the', 'B-O'], ['remains', 'B-O'], ['using', 'B-O'], ['mitochondrial', 'B-LF'], ['DNA', 'I-LF'], ['(', 'B-O'], ['mtDNA', 'B-AC'], [')', 'B-O'], ['.', 'B-O']], [['The', 'B-O'], ['cardiopulmonary', 'B-LF'], ['resuscitation', 'I-LF'], ['(', 'B-O'], ['CPR', 'B-AC'], [')', 'B-O'], ['training', 'B-O'], ['is', 'B-O'], ['essential', 'B-O'], ['for', 'B-O'], ['emergency', 'B-O'], ['responders', 'B-O'], ['.', 'B-O']], [['The', 'B-O'], ['astronomers', 'B-O'], ['observed', 'B-O'], ['a', 'B-O'], ['new', 'B-O'], ['exoplanet', 'B-O'], ['using', 'B-O'], ['the', 'B-O'], ['Hubble', 'B-LF'], ['Space', 'I-LF'], ['Telescope', 'I-LF'], ['(', 'B-O'], ['HST', 'B-AC'], [')', 'B-O'], ['.', 'B-O']], [['The', 'B-O'], ['electromagnetic', 'B-LF'], ['interference', 'I-LF'], ['(', 'B-O'], ['EMI', 'B-AC'], [')', 'B-O'], ['was', 'B-O'], ['causing', 'B-O'], ['issues', 'B-O'], ['with', 'B-O'], ['the', 'B-O'], ['equipment', 'B-O'], ['.', 'B-O']], [['The', 'B-O'], ['organizational', 'B-LF'], ['behavior', 'I-LF'], ['(', 'B-O'], ['OB', 'B-AC'], [')', 'B-O'], ['study', 'B-O'], ['focused', 'B-O'], ['on', 'B-O'], ['employee', 'B-LF'], ['motivation', 'B-O'], ['.', 'B-O']], [['The', 'B-O'], ['magnetohydrodynamics', 'B-LF'], ['(', 'B-O'], ['MHD', 'B-AC'], [')', 'B-O'], ['principles', 'B-O'], ['are', 'B-O'], ['applied', 'B-O'], ['in', 'B-O'], ['nuclear', 'B-O'], ['fusion', 'B-O'], ['research', 'B-O'], ['.', 'B-O']], [['The', 'B-O'], ['phytoremediation', 'B-O'], ['techniques', 'B-O'], ['are', 'B-O'], ['used', 'B-O'], ['to', 'B-O'], ['clean', 'B-O'], ['up', 'B-O'], ['contaminated', 'B-O'], ['soils', 'B-O'], ['.', 'B-O']], [['The', 'B-O'], ['paleoclimatology', 'B-O'], ['studies', 'B-O'], ['provide', 'B-O'], ['insights', 'B-O'], ['into', 'B-O'], ['ancient', 'B-O'], ['weather', 'B-O'], ['patterns', 'B-O'], ['.', 'B-O']], [['The', 'B-O'], ['bioluminescent', 'B-O'], ['organisms', 'B-O'], ['in', 'B-O'], ['the', 'B-O'], ['deep', 'B-O'], ['sea', 'B-O'], ['create', 'B-O'], ['a', 'B-O'], ['mesmerizing', 'B-O'], ['display', 'B-O'], ['.', 'B-O']], [['The', 'B-O'], ['nanotechnology', 'B-O'], ['applications', 'B-O'], ['in', 'B-O'], ['medicine', 'B-O'], ['are', 'B-O'], ['expanding', 'B-O'], ['rapidly', 'B-O'], ['.', 'B-O']], [['The', 'B-O'], ['electromagnetic', 'B-LF'], ['spectrum', 'I-LF'], ['(', 'B-O'], ['EMS', 'B-AC'], [')', 'B-O'], ['includes', 'B-O'], ['various', 'B-O'], ['types', 'B-O'], ['of', 'B-O'], ['radiation', 'B-O'], ['.', 'B-O']], [['The', 'B-O'], ['sociocultural', 'B-O'], ['anthropology', 'B-O'], ['explores', 'B-O'], ['the', 'B-O'], ['relationship', 'B-O'], ['between', 'B-O'], ['cultures', 'B-O'], ['and', 'B-O'], ['societies', 'B-O'], ['.', 'B-O']], [['The', 'B-O'], ['hyperbaric', 'B-LF'], ['oxygen', 'I-LF'], ['therapy', 'I-LF'], ['(', 'B-O'], ['HBOT', 'B-AC'], [')', 'B-O'], ['is', 'B-O'], ['used', 'B-O'], ['to', 'B-O'], ['treat', 'B-O'], ['various', 'B-O'], ['conditions', 'B-O'], ['.', 'B-O']], [['The', 'B-O'], ['endocrinologists', 'B-O'], ['study', 'B-O'], ['the', 'B-O'], ['impact', 'B-O'], ['of', 'B-O'], ['hormones', 'B-O'], ['on', 'B-O'], ['human', 'B-O'], ['health', 'B-O'], ['.', 'B-O']], [['The', 'B-O'], ['comprehensive', 'B-LF'], ['metabolic', 'I-LF'], ['panel', 'I-LF'], ['(', 'B-O'], ['CMP', 'B-AC'], [')', 'B-O'], ['is', 'B-O'], ['a', 'B-O'], ['common', 'B-O'], ['blood', 'B-O'], ['test', 'B-O'], ['.', 'B-O']], [['The', 'B-O'], ['computerized', 'B-LF'], ['tomography', 'I-LF'], ['(', 'B-O'], ['CT', 'B-AC'], [')', 'B-O'], ['scan', 'B-O'], ['revealed', 'B-O'], ['the', 'B-O'], ['extent', 'B-O'], ['of', 'B-O'], ['the', 'B-O'], ['injury', 'B-O'], ['.', 'B-O']], [['The', 'B-O'], ['aerodynamic', 'B-O'], ['properties', 'B-O'], ['of', 'B-O'], ['the', 'B-O'], ['new', 'B-O'], ['aircraft', 'B-O'], ['design', 'B-O'], ['were', 'B-O'], ['tested', 'B-O'], ['in', 'B-O'], ['a', 'B-O'], ['wind', 'B-O'], ['tunnel', 'B-O'], ['.', 'B-O']], [['The', 'B-O'], ['immunohistochemistry', 'B-LF'], ['(', 'B-O'], ['IHC', 'B-AC'], [')', 'B-O'], ['is', 'B-O'], ['used', 'B-O'], ['to', 'B-O'], ['diagnose', 'B-O'], ['diseases', 'B-O'], ['in', 'B-O'], ['tissue', 'B-O'], ['samples', 'B-O'], ['.', 'B-O']], [['The', 'B-O'], ['bioluminescence', 'B-O'], ['was', 'B-O'], ['most', 'B-O'], ['noticeable', 'B-O'], ['in', 'B-O'], ['the', 'B-O'], ['plankton', 'B-O'], ['samples', 'B-O'], ['collected', 'B-O'], ['.', 'B-O']], [['The', 'B-O'], ['hematopoietic', 'B-LF'], ['stem', 'I-LF'], ['cells', 'I-LF'], ['(', 'B-O'], ['HSCs', 'B-AC'], [')', 'B-O'], ['are', 'B-O'], ['crucial', 'B-O'], ['for', 'B-O'], ['blood', 'B-O'], ['formation', 'B-O'], ['.', 'B-O']], [['The', 'B-O'], ['electromechanical', 'B-O'], ['systems', 'B-O'], ['are', 'B-O'], ['integral', 'B-O'], ['to', 'B-O'], ['modern', 'B-O'], ['robotics', 'B-O'], ['.', 'B-O']], [['The', 'B-O'], ['thermodynamic', 'B-O'], ['stability', 'B-O'], ['of', 'B-O'], ['the', 'B-O'], ['compound', 'B-O'], ['was', 'B-O'], ['analyzed', 'B-O'], ['in', 'B-O'], ['the', 'B-O'], ['lab', 'B-O'], ['.', 'B-O']], [['The', 'B-O'], ['psychoeducational', 'B-O'], ['assessments', 'B-O'], ['help', 'B-O'], ['in', 'B-O'], ['identifying', 'B-O'], ['learning', 'B-O'], ['disabilities', 'B-O'], ['.', 'B-O']], [['The', 'B-O'], ['electrophysiology', 'B-O'], ['studies', 'B-O'], ['provided', 'B-O'], ['insights', 'B-O'], ['into', 'B-O'], ['heart', 'B-O'], ['function', 'B-O'], ['.', 'B-O']], [['The', 'B-O'], ['microprocessor', 'B-LF'], ['performance', 'B-O'], ['has', 'B-O'], ['been', 'B-O'], ['significantly', 'B-O'], ['enhanced', 'B-O'], ['.', 'B-O']], [['The', 'B-O'], ['ultramicroscopic', 'B-O'], ['details', 'B-O'], ['of', 'B-O'], ['the', 'B-O'], ['sample', 'B-O'], ['were', 'B-O'], ['revealed', 'B-O'], ['using', 'B-O'], ['electron', 'B-O'], ['microscopy', 'B-O'], ['.', 'B-O']], [['The', 'B-O'], ['geostationary', 'B-O'], ['satellites', 'B-O'], ['provide', 'B-O'], ['constant', 'B-O'], ['monitoring', 'B-O'], ['of', 'B-O'], ['weather', 'B-O'], ['patterns', 'B-O'], ['.', 'B-O']], [['The', 'B-O'], ['biomechanical', 'B-LF'], ['engineering', 'I-LF'], ['field', 'B-O'], ['combines', 'B-O'], ['biology', 'B-O'], ['and', 'B-O'], ['mechanics', 'B-O'], ['.', 'B-O']], [['The', 'B-O'], ['organizational', 'B-LF'], ['development', 'I-LF'], ['(', 'B-O'], ['OD', 'B-AC'], [')', 'B-O'], ['strategies', 'B-O'], ['were', 'B-O'], ['discussed', 'B-O'], ['in', 'B-O'], ['the', 'B-O'], ['meeting', 'B-O'], ['.', 'B-O']], [['The', 'B-O'], ['hydroelectric', 'B-O'], ['power', 'B-O'], ['plants', 'B-O'], ['generate', 'B-O'], ['energy', 'B-O'], ['from', 'B-O'], ['flowing', 'B-O'], ['water', 'B-O'], ['.', 'B-O']], [['The', 'B-O'], ['psychophysiological', 'B-O'], ['responses', 'B-O'], ['were', 'B-O'], ['measured', 'B-O'], ['during', 'B-O'], ['the', 'B-O'], ['experiment', 'B-O'], ['.', 'B-O']], [['The', 'B-O'], ['electrophoresis', 'B-O'], ['technique', 'B-O'], ['is', 'B-O'], ['used', 'B-O'], ['to', 'B-O'], ['separate', 'B-O'], ['DNA', 'B-O'], ['fragments', 'B-O'], ['.', 'B-O']], [['The', 'B-O'], ['archeological', 'B-LF'], ['discoveries', 'B-O'], ['were', 'B-O'], ['presented', 'B-O'], ['at', 'B-O'], ['the', 'B-O'], ['international', 'B-LF'], ['conference', 'I-LF'], ['(', 'B-O'], ['IC', 'B-AC'], [')', 'B-O'], ['.', 'B-O']], [['The', 'B-O'], ['thermoelectric', 'B-O'], ['materials', 'B-O'], ['convert', 'B-O'], ['heat', 'B-O'], ['into', 'B-O'], ['electricity', 'B-O'], ['.', 'B-O']], [['The', 'B-O'], ['gastroenterologists', 'B-O'], ['specialize', 'B-O'], ['in', 'B-O'], ['the', 'B-O'], ['digestive', 'B-O'], ['system', 'B-O'], ['.', 'B-O']], [['The', 'B-O'], ['biopharmaceutical', 'B-LF'], ['industry', 'B-O'], ['is', 'B-O'], ['growing', 'B-O'], ['rapidly', 'B-O'], ['.', 'B-O']], [['The', 'B-O'], ['geophysicists', 'B-O'], ['study', 'B-O'], ['the', 'B-O'], ['physical', 'B-O'], ['properties', 'B-O'], ['of', 'B-O'], ['the', 'B-O'], ['Earth', 'B-O'], ['.', 'B-O']], [['The', 'B-O'], ['hyperthyroidism', 'B-O'], ['was', 'B-O'], ['treated', 'B-O'], ['with', 'B-O'], ['medication', 'B-O'], ['and', 'B-O'], ['lifestyle', 'B-O'], ['changes', 'B-O'], ['.', 'B-O']], [['The', 'B-O'], ['thermoluminescence', 'B-O'], ['dating', 'B-O'], ['method', 'B-O'], ['is', 'B-O'], ['used', 'B-O'], ['in', 'B-O'], ['archeology', 'B-O'], ['.', 'B-O']], [['The', 'B-O'], ['spectrophotometer', 'B-O'], ['measures', 'B-O'], ['the', 'B-O'], ['intensity', 'B-O'], ['of', 'B-O'], ['light', 'B-O'], ['in', 'B-O'], ['a', 'B-O'], ['sample', 'B-O'], ['.', 'B-O']], [['The', 'B-O'], ['paramedics', 'B-O'], ['performed', 'B-O'], ['advanced', 'B-LF'], ['life', 'I-LF'], ['support', 'I-LF'], ['(', 'B-O'], ['ALS', 'B-AC'], [')', 'B-O'], ['procedures', 'B-O'], ['.', 'B-O']], [['The', 'B-O'], ['immunodeficiency', 'B-LF'], ['was', 'B-O'], ['diagnosed', 'B-O'], ['based', 'B-O'], ['on', 'B-O'], ['the', 'B-O'], ['patient', 'B-O'], ['s', 'B-O'], ['history', 'B-O'], ['.', 'B-O']], [['The', 'B-O'], ['pharmacokinetics', 'B-O'], ['of', 'B-O'], ['the', 'B-O'], ['new', 'B-O'], ['drug', 'B-O'], ['were', 'B-O'], ['studied', 'B-O'], ['in', 'B-O'], ['clinical', 'B-O'], ['trials', 'B-O'], ['.', 'B-O']], [['The', 'B-O'], ['petrochemical', 'B-O'], ['industry', 'B-O'], ['produces', 'B-O'], ['a', 'B-O'], ['wide', 'B-O'], ['range', 'B-O'], ['of', 'B-O'], ['products', 'B-O'], ['.', 'B-O']], [['The', 'B-LF'], ['electrooculography', 'B-LF'], ['(', 'B-O'], ['EOG', 'B-AC'], [')', 'B-O'], ['tracks', 'B-O'], ['eye', 'B-O'], ['movements', 'B-O'], ['.', 'B-O']], [['The', 'B-O'], ['microclimatology', 'B-O'], ['studies', 'B-O'], ['focus', 'B-O'], ['on', 'B-O'], ['small', 'B-O'], ['-', 'B-O'], ['scale', 'B-O'], ['weather', 'B-O'], ['patterns', 'B-O'], ['.', 'B-O']], [['The', 'B-O'], ['interdisciplinary', 'B-O'], ['research', 'B-O'], ['team', 'B-O'], ['included', 'B-O'], ['experts', 'B-O'], ['from', 'B-O'], ['various', 'B-O'], ['fields', 'B-O'], ['.', 'B-O']], [['The', 'B-O'], ['geotechnical', 'B-O'], ['engineering', 'B-O'], ['principles', 'B-O'], ['are', 'B-O'], ['applied', 'B-O'], ['in', 'B-O'], ['construction', 'B-O'], ['.', 'B-O']], [['The', 'B-O'], ['photovoltaic', 'B-O'], ['cells', 'B-O'], ['convert', 'B-O'], ['sunlight', 'B-O'], ['into', 'B-O'], ['electricity', 'B-O'], ['.', 'B-O']], [['The', 'B-O'], ['climatological', 'B-O'], ['data', 'B-O'], ['were', 'B-O'], ['analyzed', 'B-O'], ['to', 'B-O'], ['predict', 'B-O'], ['future', 'B-O'], ['weather', 'B-O'], ['trends', 'B-O'], ['.', 'B-O']], [['The', 'B-O'], ['macromolecular', 'B-O'], ['structure', 'B-O'], ['of', 'B-O'], ['the', 'B-O'], ['protein', 'B-O'], ['was', 'B-O'], ['determined', 'B-O'], ['using', 'B-O'], ['X', 'B-O'], ['-', 'B-O'], ['ray', 'B-O'], ['crystallography', 'B-O'], ['.', 'B-O']], [['The', 'B-O'], ['telecommunication', 'B-O'], ['networks', 'B-O'], ['rely', 'B-O'], ['on', 'B-O'], ['fiber', 'B-O'], ['optic', 'B-O'], ['technology', 'B-O'], ['.', 'B-O']], [['The', 'B-O'], ['electrochromic', 'B-O'], ['materials', 'B-O'], ['change', 'B-O'], ['color', 'B-O'], ['when', 'B-O'], ['an', 'B-O'], ['electric', 'B-O'], ['field', 'B-O'], ['is', 'B-O'], ['applied', 'B-O'], ['.', 'B-O']], [['The', 'B-O'], ['psychotropic', 'B-O'], ['medications', 'B-O'], ['are', 'B-O'], ['used', 'B-O'], ['to', 'B-O'], ['treat', 'B-O'], ['mental', 'B-O'], ['health', 'B-O'], ['conditions', 'B-O'], ['.', 'B-O']], [['The', 'B-O'], ['electrocardiography', 'B-LF'], ['(', 'B-O'], ['ECG', 'B-AC'], [')', 'B-O'], ['technician', 'B-O'], ['monitored', 'B-O'], ['the', 'B-O'], ['patient', 'B-O'], ['s', 'B-O'], ['heart', 'B-O'], ['.', 'B-O']], [['The', 'B-O'], ['paleoanthropology', 'B-O'], ['research', 'B-O'], ['provided', 'B-O'], ['insights', 'B-O'], ['into', 'B-O'], ['early', 'B-O'], ['human', 'B-O'], ['life', 'B-O'], ['.', 'B-O']], [['The', 'B-O'], ['sociolinguistic', 'B-O'], ['study', 'B-O'], ['focused', 'B-O'], ['on', 'B-O'], ['language', 'B-O'], ['use', 'B-O'], ['in', 'B-O'], ['different', 'B-O'], ['communities', 'B-O'], ['.', 'B-O']], [['The', 'B-O'], ['hypersonic', 'B-O'], ['speeds', 'B-O'], ['were', 'B-O'], ['achieved', 'B-O'], ['by', 'B-O'], ['the', 'B-O'], ['new', 'B-O'], ['aircraft', 'B-LF'], ['prototype', 'B-O'], ['.', 'B-O']], [['The', 'B-LF'], ['electroencephalography', 'B-LF'], ['(', 'B-O'], ['EEG', 'B-AC'], [')', 'B-O'], ['recorded', 'B-O'], ['the', 'B-O'], ['brain', 'B-O'], ['s', 'B-O'], ['electrical', 'B-O'], ['activity', 'B-O'], ['.', 'B-O']], [['The', 'B-O'], ['thermoplastic', 'B-O'], ['materials', 'B-O'], ['become', 'B-O'], ['pliable', 'B-O'], ['at', 'B-O'], ['certain', 'B-O'], ['temperatures', 'B-O'], ['.', 'B-O']], [['The', 'B-O'], ['microbiological', 'B-O'], ['analysis', 'B-O'], ['revealed', 'B-O'], ['the', 'B-O'], ['presence', 'B-O'], ['of', 'B-O'], ['harmful', 'B-O'], ['bacteria', 'B-O'], ['.', 'B-O']], [['The', 'B-O'], ['telehealth', 'B-O'], ['services', 'B-O'], ['expanded', 'B-O'], ['access', 'B-O'], ['to', 'B-O'], ['medical', 'B-O'], ['care', 'B-O'], ['.', 'B-O']], [['The', 'B-O'], ['spectroscopic', 'B-O'], ['analysis', 'B-O'], ['was', 'B-O'], ['used', 'B-O'], ['to', 'B-O'], ['determine', 'B-O'], ['the', 'B-O'], ['chemical', 'B-O'], ['composition', 'B-O'], ['.', 'B-O']], [['The', 'B-O'], ['anthropomorphization', 'B-O'], ['in', 'B-O'], ['the', 'B-O'], ['robot', 'B-O'], ['s', 'B-O'], ['design', 'B-O'], ['made', 'B-O'], ['it', 'B-O'], ['more', 'B-O'], ['relatable', 'B-O'], ['.', 'B-O']], [['The', 'B-O'], ['orthopedic', 'B-O'], ['surgeons', 'B-O'], ['specialize', 'B-O'], ['in', 'B-O'], ['the', 'B-O'], ['musculoskeletal', 'B-LF'], ['system', 'B-O'], ['.', 'B-O']], [['The', 'B-O'], ['neurophysiology', 'B-O'], ['lab', 'B-O'], ['studied', 'B-O'], ['the', 'B-O'], ['nervous', 'B-O'], ['system', 'B-O'], ['functions', 'B-O'], ['.', 'B-O']], [['The', 'B-O'], ['hydrogeological', 'B-O'], ['studies', 'B-O'], ['were', 'B-O'], ['important', 'B-O'], ['for', 'B-O'], ['managing', 'B-O'], ['water', 'B-O'], ['resources', 'B-O'], ['.', 'B-O']], [['The', 'B-O'], ['aerodynamics', 'B-O'], ['of', 'B-O'], ['the', 'B-O'], ['new', 'B-O'], ['car', 'B-O'], ['design', 'B-O'], ['improved', 'B-O'], ['fuel', 'B-O'], ['efficiency', 'B-O'], ['.', 'B-O']], [['The', 'B-O'], ['bacteriological', 'B-O'], ['tests', 'B-O'], ['confirmed', 'B-O'], ['the', 'B-O'], ['infection', 'B-O'], ['.', 'B-O']], [['The', 'B-O'], ['hematological', 'B-O'], ['disorders', 'B-O'], ['were', 'B-O'], ['treated', 'B-O'], ['with', 'B-O'], ['specialized', 'B-O'], ['medications', 'B-O'], ['.', 'B-O']], [['The', 'B-O'], ['astrophysicists', 'B-O'], ['presented', 'B-O'], ['their', 'B-O'], ['findings', 'B-O'], ['on', 'B-O'], ['black', 'B-O'], ['holes', 'B-O'], ['at', 'B-O'], ['the', 'B-O'], ['symposium', 'B-O'], ['.', 'B-O']]]\n"
     ]
    }
   ],
   "source": [
    "print(stress_test(8000, endpoint_url))"
   ]
  },
  {
   "cell_type": "code",
   "execution_count": 94,
   "id": "b17be0c1-b19b-4bfb-a0af-fa85c9471219",
   "metadata": {},
   "outputs": [
    {
     "data": {
      "image/png": "[encoded data removed]",
      "text/plain": [
       "<Figure size 432x288 with 1 Axes>"
      ]
     },
     "metadata": {
      "needs_background": "light"
     },
     "output_type": "display_data"
    }
   ],
   "source": [
    "\n",
    "def stress_test(num_requests_list, endpoint_url):\n",
    "    time_taken = []\n",
    "    for num_requests in num_requests_list:\n",
    "        start_time = time.time()\n",
    "        with concurrent.futures.ThreadPoolExecutor() as executor:\n",
    "            futures = [executor.submit(predict_sentence, sentence, endpoint_url) for sentence in exaggerated_test_sentences[:num_requests]]\n",
    "            results = [future.result() for future in concurrent.futures.as_completed(futures)]\n",
    "        end_time = time.time()\n",
    "        time_taken.append(end_time - start_time)\n",
    "    return results, time_taken\n",
    "\n",
    "num_requests_list = [10, 20, 30, 40, 50, 100, 500, 1000]  # Varying number of requests\n",
    "results, time_taken = stress_test(num_requests_list, endpoint_url)\n",
    "\n",
    "plt.plot(num_requests_list, time_taken, marker='o')\n",
    "plt.xlabel('Number of Requests')\n",
    "plt.ylabel('Time Taken (seconds)')\n",
    "plt.title('Time Taken vs Number of Requests')\n",
    "plt.grid(True)\n",
    "plt.show()"
   ]
  },
  {
   "cell_type": "code",
   "execution_count": 95,
   "id": "4fa3d2cf-0f28-4446-8456-5e9eb0307e87",
   "metadata": {},
   "outputs": [
    {
     "data": {
      "image/png": "[encoded data removed]",
      "text/plain": [
       "<Figure size 720x432 with 4 Axes>"
      ]
     },
     "metadata": {
      "needs_background": "light"
     },
     "output_type": "display_data"
    }
   ],
   "source": [
    "import time\n",
    "import concurrent.futures\n",
    "import matplotlib.pyplot as plt\n",
    "\n",
    "def stress_test(num_requests_list, endpoint_url):\n",
    "    time_taken = []\n",
    "    throughput = []\n",
    "    concurrency = []\n",
    "    error_rates = []\n",
    "\n",
    "    for num_requests in num_requests_list:\n",
    "        start_time = time.time()\n",
    "        with concurrent.futures.ThreadPoolExecutor() as executor:\n",
    "            futures = [executor.submit(predict_sentence, sentence, endpoint_url) for sentence in exaggerated_test_sentences[:num_requests]]\n",
    "            results = [future.result() for future in concurrent.futures.as_completed(futures)]\n",
    "        end_time = time.time()\n",
    "        time_taken.append(end_time - start_time)\n",
    "\n",
    "        throughput.append(num_requests / (end_time - start_time))\n",
    "\n",
    "        concurrency.append(len(futures))\n",
    "\n",
    "        error_count = sum(1 for result in results if isinstance(result, str) and result.startswith('Error'))\n",
    "        error_rates.append(error_count / num_requests)\n",
    "\n",
    "    return time_taken, throughput, concurrency, error_rates\n",
    "\n",
    "num_requests_list = [10, 20, 30, 40, 50, 100, 500, 1000]  \n",
    "time_taken, throughput, concurrency, error_rates = stress_test(num_requests_list, endpoint_url)\n",
    "\n",
    "plt.figure(figsize=(10, 6))\n",
    "plt.subplot(2, 2, 1)\n",
    "plt.plot(num_requests_list, time_taken, marker='o')\n",
    "plt.xlabel('Number of Requests')\n",
    "plt.ylabel('Time Taken (seconds)')\n",
    "plt.title('Time Taken vs Number of Requests')\n",
    "plt.grid(True)\n",
    "\n",
    "plt.subplot(2, 2, 2)\n",
    "plt.plot(num_requests_list, throughput, marker='o')\n",
    "plt.xlabel('Number of Requests')\n",
    "plt.ylabel('Throughput (requests/second)')\n",
    "plt.title('Throughput vs Number of Requests')\n",
    "plt.grid(True)\n",
    "\n",
    "plt.subplot(2, 2, 3)\n",
    "plt.plot(num_requests_list, concurrency, marker='o')\n",
    "plt.xlabel('Number of Requests')\n",
    "plt.ylabel('Concurrency')\n",
    "plt.title('Concurrency vs Number of Requests')\n",
    "plt.grid(True)\n",
    "\n",
    "plt.subplot(2, 2, 4)\n",
    "plt.plot(num_requests_list, error_rates, marker='o')\n",
    "plt.xlabel('Number of Requests')\n",
    "plt.ylabel('Error Rate')\n",
    "plt.title('Error Rate vs Number of Requests')\n",
    "plt.grid(True)\n",
    "\n",
    "plt.tight_layout()\n",
    "plt.show()\n"
   ]
  },
  {
   "cell_type": "code",
   "execution_count": 96,
   "id": "6b8d540f-a45c-4d18-9fe9-a725c2a5ca93",
   "metadata": {},
   "outputs": [
    {
     "data": {
      "image/png": "[encoded data removed]",
      "text/plain": [
       "<Figure size 1008x720 with 4 Axes>"
      ]
     },
     "metadata": {},
     "output_type": "display_data"
    }
   ],
   "source": [
    "import time\n",
    "import concurrent.futures\n",
    "import matplotlib.pyplot as plt\n",
    "import seaborn as sns\n",
    "\n",
    "def stress_test(num_requests_list, endpoint_url):\n",
    "    time_taken = []\n",
    "    throughput = []\n",
    "    concurrency = []\n",
    "    error_rates = []\n",
    "\n",
    "    for num_requests in num_requests_list:\n",
    "        start_time = time.time()\n",
    "        with concurrent.futures.ThreadPoolExecutor() as executor:\n",
    "            futures = [executor.submit(predict_sentence, sentence, endpoint_url) for sentence in exaggerated_test_sentences[:num_requests]]\n",
    "            results = [future.result() for future in concurrent.futures.as_completed(futures)]\n",
    "        end_time = time.time()\n",
    "        time_taken.append(end_time - start_time)\n",
    "\n",
    "        throughput.append(num_requests / (end_time - start_time))\n",
    "\n",
    "        concurrency.append(len(futures))\n",
    "\n",
    "        error_count = sum(1 for result in results if isinstance(result, str) and result.startswith('Error'))\n",
    "        error_rates.append(error_count / num_requests)\n",
    "\n",
    "    return time_taken, throughput, concurrency, error_rates\n",
    "\n",
    "num_requests_list = [10, 20, 30, 40, 50, 100, 500, 1000]  \n",
    "time_taken, throughput, concurrency, error_rates = stress_test(num_requests_list, endpoint_url)\n",
    "\n",
    "sns.set(style=\"whitegrid\")\n",
    "\n",
    "fig, axs = plt.subplots(2, 2, figsize=(14, 10))\n",
    "\n",
    "axs[0, 0].plot(num_requests_list, time_taken, marker='o', color='b', linestyle='-', linewidth=2, markersize=6)\n",
    "axs[0, 0].set_xlabel('Number of Requests')\n",
    "axs[0, 0].set_ylabel('Time Taken (seconds)')\n",
    "axs[0, 0].set_title('Time Taken vs Number of Requests')\n",
    "axs[0, 0].grid(True)\n",
    "\n",
    "axs[0, 1].plot(num_requests_list, throughput, marker='o', color='g', linestyle='-', linewidth=2, markersize=6)\n",
    "axs[0, 1].set_xlabel('Number of Requests')\n",
    "axs[0, 1].set_ylabel('Throughput (requests/second)')\n",
    "axs[0, 1].set_title('Throughput vs Number of Requests')\n",
    "axs[0, 1].grid(True)\n",
    "\n",
    "axs[1, 0].plot(num_requests_list, concurrency, marker='o', color='r', linestyle='-', linewidth=2, markersize=6)\n",
    "axs[1, 0].set_xlabel('Number of Requests')\n",
    "axs[1, 0].set_ylabel('Concurrency')\n",
    "axs[1, 0].set_title('Concurrency vs Number of Requests')\n",
    "axs[1, 0].grid(True)\n",
    "\n",
    "axs[1, 1].plot(num_requests_list, error_rates, marker='o', color='m', linestyle='-', linewidth=2, markersize=6)\n",
    "axs[1, 1].set_xlabel('Number of Requests')\n",
    "axs[1, 1].set_ylabel('Error Rate')\n",
    "axs[1, 1].set_title('Error Rate vs Number of Requests')\n",
    "axs[1, 1].grid(True)\n",
    "\n",
    "plt.tight_layout()\n",
    "\n",
    "plt.show()\n"
   ]
  },
  {
   "cell_type": "code",
   "execution_count": null,
   "id": "124a70c1-07c4-487f-b878-e4f2574e9616",
   "metadata": {},
   "outputs": [],
   "source": []
  }
 ],
 "metadata": {
  "kernelspec": {
   "display_name": "Python 3 (ipykernel)",
   "language": "python",
   "name": "python3"
  },
  "language_info": {
   "codemirror_mode": {
    "name": "ipython",
    "version": 3
   },
   "file_extension": ".py",
   "mimetype": "text/x-python",
   "name": "python",
   "nbconvert_exporter": "python",
   "pygments_lexer": "ipython3",
   "version": "3.11.5"
  }
 },
 "nbformat": 4,
 "nbformat_minor": 5
}
